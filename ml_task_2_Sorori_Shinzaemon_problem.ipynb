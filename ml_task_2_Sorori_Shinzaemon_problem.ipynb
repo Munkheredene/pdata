{
 "cells": [
  {
   "cell_type": "markdown",
   "id": "506791c5-4422-4b4d-9661-1d361c15aeb2",
   "metadata": {},
   "source": [
    "Problem 1 Number of grains of rise on the 100th day"
   ]
  },
  {
   "cell_type": "code",
   "execution_count": 7,
   "id": "633c4b27-dd88-486c-a26b-e0aa620d1105",
   "metadata": {},
   "outputs": [
    {
     "name": "stdout",
     "output_type": "stream",
     "text": [
      "Number of rice : [1, 2, 2, 2, 2, 2, 2, 2, 2, 2, 2, 2, 2, 2, 2, 2, 2, 2, 2, 2, 2, 2, 2, 2, 2, 2, 2, 2, 2, 2, 2, 2, 2, 2, 2, 2, 2, 2, 2, 2, 2, 2, 2, 2, 2, 2, 2, 2, 2, 2, 2, 2, 2, 2, 2, 2, 2, 2, 2, 2, 2, 2, 2, 2, 2, 2, 2, 2, 2, 2, 2, 2, 2, 2, 2, 2, 2, 2, 2, 2, 2, 2, 2, 2, 2, 2, 2, 2, 2, 2, 2, 2, 2, 2, 2, 2, 2, 2, 2, 2, 2]\n"
     ]
    }
   ],
   "source": [
    "import matplotlib.pyplot as plt\n",
    "rice_count=1\n",
    "number_of_days=100\n",
    "number_of_rice=[]\n",
    "number_of_rice.append(rice_count)\n",
    "for day in range(number_of_days):\n",
    "    rice_count=1*2\n",
    "    number_of_rice.append(rice_count)\n",
    "\n",
    "print(\"Number of rice :\", number_of_rice)"
   ]
  },
  {
   "cell_type": "markdown",
   "id": "593da7e2-4814-4c33-8da4-691bcb86b9e4",
   "metadata": {},
   "source": [
    "rice_count=1\n",
    "number_of_days=100\n",
    "number_of_rice=[]\n",
    "number_of_rice.append(rice_count)\n",
    "for day in range(number_of_days):\n",
    "    rice_count=rice_count*2\n",
    "    number_of_rice.append(rice_count)\n",
    "\n",
    "print(\"Number of rice :\", number_of_rice[-1])\n",
    "\n",
    "plt.title(\"Cumulative number of rice\")\n",
    "plt.xlabel(\"number of days\")\n",
    "plt.ylabel(\"number of rice\")\n",
    "plt.plot(number_of_rice)\n",
    "plt.show()\n"
   ]
  },
  {
   "cell_type": "code",
   "execution_count": null,
   "id": "d2039dee-5a61-4b01-bd20-642acb8a8135",
   "metadata": {},
   "outputs": [],
   "source": [
    "Problem 2 Number of rice grains outside of the 100th day"
   ]
  },
  {
   "cell_type": "code",
   "execution_count": 12,
   "id": "88904cd1-17eb-4604-9dc1-7bc5dc805e1b",
   "metadata": {},
   "outputs": [],
   "source": [
    "def compute_sorori_shinzaemon(n_days=100):\n",
    "      ### for loop ##\n",
    "    rice_count = 1 \n",
    "    list_n_grains = []\n",
    "    list_total_grains = []\n",
    "    \n",
    "    for day in range(n_days):\n",
    "        list_n_grains.append(rice_count) \n",
    "        rice_count = rice_count*2\n",
    "        list_total_grains.append(rice_count) \n",
    "        \n",
    "    return list_n_grains, list_total_grains"
   ]
  },
  {
   "cell_type": "code",
   "execution_count": 13,
   "id": "d424f6d1-0b2e-4163-8e3d-c21a99e1d39c",
   "metadata": {},
   "outputs": [],
   "source": [
    "list_n_grains, list_total_grains = compute_sorori_shinzaemon(n_days=10)"
   ]
  },
  {
   "cell_type": "markdown",
   "id": "fe5d7866-be15-42b5-8122-1e135d72fc4c",
   "metadata": {},
   "source": [
    "Problem 3 How many people can live for how many days with the rice we get?"
   ]
  },
  {
   "cell_type": "code",
   "execution_count": 14,
   "id": "616b2d6a-f7dc-4797-b88e-e4e337726e41",
   "metadata": {},
   "outputs": [],
   "source": [
    "def compute_number_days(number_of_rice, number_of_people, daily_usage = 19200):\n",
    "   # formula \n",
    "    total_usage_for_all_people = number_of_people*daily_usage\n",
    "    number_of_days_to_live = int(number_of_rice/total_usage_for_all_people)\n",
    "\n",
    "    return number_of_days_to_live"
   ]
  },
  {
   "cell_type": "code",
   "execution_count": 15,
   "id": "a7e5d504-8dde-4503-b214-1b44c5ddd095",
   "metadata": {},
   "outputs": [
    {
     "name": "stdout",
     "output_type": "stream",
     "text": [
      "The 10 can live 5 days eating 1048576.\n"
     ]
    }
   ],
   "source": [
    "number_of_rice = 2**20\n",
    "number_people = 10\n",
    "number_of_days = compute_number_days(number_of_rice=number_of_rice, \n",
    "                                     number_of_people=number_people, \n",
    "                                     daily_usage = 19200)\n",
    "\n",
    "print(f\"The {number_people} can live {number_of_days} days eating {number_of_rice}.\")"
   ]
  },
  {
   "cell_type": "code",
   "execution_count": 19,
   "id": "96e3877a-5572-4f83-9431-8661f9f7ef07",
   "metadata": {},
   "outputs": [
    {
     "name": "stdout",
     "output_type": "stream",
     "text": [
      "The 10 can live 5 days eating 1048576.\n"
     ]
    }
   ],
   "source": [
    "print(f\"The {number_people} can live {number_of_days} days eating {number_of_rice}.\")"
   ]
  },
  {
   "cell_type": "code",
   "execution_count": null,
   "id": "7da1fc8c-71ab-47aa-b267-53e493993c71",
   "metadata": {},
   "outputs": [],
   "source": []
  }
 ],
 "metadata": {
  "kernelspec": {
   "display_name": "Python 3 (ipykernel)",
   "language": "python",
   "name": "python3"
  },
  "language_info": {
   "codemirror_mode": {
    "name": "ipython",
    "version": 3
   },
   "file_extension": ".py",
   "mimetype": "text/x-python",
   "name": "python",
   "nbconvert_exporter": "python",
   "pygments_lexer": "ipython3",
   "version": "3.10.11"
  }
 },
 "nbformat": 4,
 "nbformat_minor": 5
}
