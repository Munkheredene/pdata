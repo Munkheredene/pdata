{
 "cells": [
  {
   "cell_type": "markdown",
   "id": "46e88042-524e-4ac1-b1fc-79cf2bef4605",
   "metadata": {},
   "source": [
    "Problem 1 How"
   ]
  },
  {
   "cell_type": "code",
   "execution_count": 31,
   "id": "4d43d285-819a-4cc1-b182-ab57faf51bab",
   "metadata": {},
   "outputs": [
    {
     "name": "stdout",
     "output_type": "stream",
     "text": [
      "Number of folds 26 that paper can be higher than Mt.Fuji\n"
     ]
    }
   ],
   "source": [
    "import math\n",
    "\n",
    "thickness = 0.00008\n",
    "mt_fuji_height = 3776\n",
    "\n",
    "folds = math.ceil(math.log2(mt_fuji_height/thickness))\n",
    "print(f\"Number of folds {folds} that paper can be higher than Mt.Fuji\")\n",
    "\n"
   ]
  },
  {
   "cell_type": "code",
   "execution_count": 32,
   "id": "6b944478-1c6d-4336-b9c1-b8f1a5626aa4",
   "metadata": {},
   "outputs": [
    {
     "name": "stdout",
     "output_type": "stream",
     "text": [
      "5368.70912\n"
     ]
    }
   ],
   "source": [
    "print(thickness*(2**(folds)))"
   ]
  },
  {
   "cell_type": "markdown",
   "id": "c736d2ad-22c3-4381-b33d-f18715e3488f",
   "metadata": {},
   "source": [
    "problem 2 Function corresponding to arbitrary thickness"
   ]
  },
  {
   "cell_type": "code",
   "execution_count": 33,
   "id": "ad4cdc1d-0791-4fc5-8902-b0976d87f812",
   "metadata": {},
   "outputs": [],
   "source": [
    "def compute_number_of_fold(height,thickness = 0.00008):\n",
    "   # formula \n",
    "    fold_times = 0\n",
    "    while True:\n",
    "        thickness = thickness*2\n",
    "        fold_times+=1\n",
    "        if thickness>height:\n",
    "            break\n",
    "    \n",
    "    return fold_times"
   ]
  },
  {
   "cell_type": "code",
   "execution_count": 34,
   "id": "674b3a86-2f8b-4b3c-ab94-8d4f4709d175",
   "metadata": {},
   "outputs": [
    {
     "name": "stdout",
     "output_type": "stream",
     "text": [
      "Number of folds =  69\n"
     ]
    }
   ],
   "source": [
    "distance_between_sun_and_earth = 4.0175*(10**16) \n",
    "num_folds = compute_number_of_fold(height=distance_between_sun_and_earth, \n",
    "                                   thickness = 0.00008)\n",
    "\n",
    "print(\"Number of folds = \", num_folds)"
   ]
  },
  {
   "cell_type": "markdown",
   "id": "d6a9006d-a10b-4a00-8443-265fc0c3a26e",
   "metadata": {},
   "source": [
    "problem 3 Required paper length"
   ]
  },
  {
   "cell_type": "code",
   "execution_count": 35,
   "id": "4a6f7c22-6c76-4de2-9357-2331d54dee89",
   "metadata": {},
   "outputs": [],
   "source": [
    "def compute_paper_length(number_of_folds,thickness = 0.00008):\n",
    "    # formula \n",
    "    pi = math.pi\n",
    "    paper_length = ((pi*thickness)/6)*(2**number_of_folds+4)*(2**number_of_folds-1)\n",
    "\n",
    "    return paper_length"
   ]
  },
  {
   "cell_type": "code",
   "execution_count": 26,
   "id": "65acea00-704a-4792-84e0-907590d21fcd",
   "metadata": {},
   "outputs": [],
   "source": [
    "import math\n"
   ]
  },
  {
   "cell_type": "code",
   "execution_count": 37,
   "id": "122ebf0b-460b-45d6-80b4-fd38641229e1",
   "metadata": {},
   "outputs": [
    {
     "name": "stdout",
     "output_type": "stream",
     "text": [
      "The paper length to reach Moon = 3240919444170.78 million km.\n"
     ]
    }
   ],
   "source": [
    "folds = 43\n",
    "paper_length = compute_paper_length(number_of_folds=folds, thickness = 0.00008)\n",
    "\n",
    "print(f\"The paper length to reach Moon = {round(paper_length/(1000*1000000), 2)} million km.\")"
   ]
  },
  {
   "cell_type": "code",
   "execution_count": 38,
   "id": "e417b9f1-f1a6-463a-a2f6-87876d5e7984",
   "metadata": {},
   "outputs": [
    {
     "name": "stdout",
     "output_type": "stream",
     "text": [
      "The paper length to reach Mt.Fuji = 47.16 million km.\n"
     ]
    }
   ],
   "source": [
    "folds = 25\n",
    "paper_length = compute_paper_length(number_of_folds=folds,thickness = 0.00008)\n",
    "\n",
    "print(f\"The paper length to reach Mt.Fuji = {round(paper_length/(1000*1000000), 2)} million km.\")"
   ]
  },
  {
   "cell_type": "code",
   "execution_count": 28,
   "id": "e3fca7a5-ecab-42d8-9908-269caf343cc8",
   "metadata": {},
   "outputs": [
    {
     "name": "stdout",
     "output_type": "stream",
     "text": [
      "The paper length to reach Moon = 3240919444170.78 million km.\n"
     ]
    }
   ],
   "source": [
    "folds = 43\n",
    "paper_length = compute_paper_length(number_of_folds=folds,thickness = 0.00008)\n",
    "print(f\"The paper length to reach Moon = {round(paper_length/(1000*1000000), 2)} million km.\")"
   ]
  },
  {
   "cell_type": "code",
   "execution_count": 39,
   "id": "c4cdd08c-4abc-4f14-970e-09016ee9e547",
   "metadata": {},
   "outputs": [
    {
     "name": "stdout",
     "output_type": "stream",
     "text": [
      "The paper length to reach Proxima Centauri = 1.459580360110035e+28 million km.\n"
     ]
    }
   ],
   "source": [
    "folds = 69\n",
    "paper_length = compute_paper_length(number_of_folds=folds,thickness = 0.00008)\n",
    "\n",
    "print(f\"The paper length to reach Proxima Centauri = {round(paper_length/(1000*1000000), 2)} million km.\")"
   ]
  },
  {
   "cell_type": "code",
   "execution_count": null,
   "id": "fd8fb2a8-72f9-432c-916e-478832a2ce8a",
   "metadata": {},
   "outputs": [],
   "source": []
  }
 ],
 "metadata": {
  "kernelspec": {
   "display_name": "Python 3 (ipykernel)",
   "language": "python",
   "name": "python3"
  },
  "language_info": {
   "codemirror_mode": {
    "name": "ipython",
    "version": 3
   },
   "file_extension": ".py",
   "mimetype": "text/x-python",
   "name": "python",
   "nbconvert_exporter": "python",
   "pygments_lexer": "ipython3",
   "version": "3.10.11"
  }
 },
 "nbformat": 4,
 "nbformat_minor": 5
}
