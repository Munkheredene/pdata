{
 "cells": [
  {
   "cell_type": "code",
   "execution_count": null,
   "id": "88a29a62-1e8f-4e2f-bde1-1b11f8f3eb5f",
   "metadata": {},
   "outputs": [],
   "source": [
    "def compute_period(chesnut_volume, volume_of_solar_system):\n",
    "    \n",
    "daily_minutes=24*60\n",
    "number_of_times=daily_minutes/5\n",
    "\n",
    "number_of_chesnuts=int(volume_of_solar_system/chesnut_volume)\n",
    "folds=math.ceil(math.log2(number_of_chesnuts))\n",
    "number_of_days=int(folds/number_of_times)\n",
    "\n"
   ]
  }
 ],
 "metadata": {
  "kernelspec": {
   "display_name": "Python 3 (ipykernel)",
   "language": "python",
   "name": "python3"
  },
  "language_info": {
   "codemirror_mode": {
    "name": "ipython",
    "version": 3
   },
   "file_extension": ".py",
   "mimetype": "text/x-python",
   "name": "python",
   "nbconvert_exporter": "python",
   "pygments_lexer": "ipython3",
   "version": "3.10.11"
  }
 },
 "nbformat": 4,
 "nbformat_minor": 5
}
