{
 "cells": [
  {
   "cell_type": "markdown",
   "id": "46e88042-524e-4ac1-b1fc-79cf2bef4605",
   "metadata": {},
   "source": [
    "Problem 1 How"
   ]
  },
  {
   "cell_type": "code",
   "execution_count": 1,
   "id": "4d43d285-819a-4cc1-b182-ab57faf51bab",
   "metadata": {},
   "outputs": [
    {
     "name": "stdout",
     "output_type": "stream",
     "text": [
      "26\n"
     ]
    }
   ],
   "source": [
    "thickness = 0.00008\n",
    "mt_height = 3776\n",
    "current_height = thickness\n",
    "count = 0\n",
    "while(current_height < mt_height):\n",
    "    current_height = current_height * 2\n",
    "    count +=1\n",
    "print(count)\n",
    "\n"
   ]
  },
  {
   "cell_type": "code",
   "execution_count": 4,
   "id": "af0a7c8f-a20d-4e1f-99dc-cb4ff21b08cd",
   "metadata": {},
   "outputs": [
    {
     "name": "stdout",
     "output_type": "stream",
     "text": [
      "26\n"
     ]
    }
   ],
   "source": [
    "fuji_height = 3776\n",
    "thickness = 0.00008\n",
    "fold_times =0\n",
    "while True:\n",
    "    thickness = thickness*2\n",
    "    fold_times+=1\n",
    "    if thickness>fuji_height:\n",
    "        break\n",
    "print(fold_times)"
   ]
  },
  {
   "cell_type": "markdown",
   "id": "c736d2ad-22c3-4381-b33d-f18715e3488f",
   "metadata": {},
   "source": [
    "problem 2 "
   ]
  },
  {
   "cell_type": "code",
   "execution_count": 5,
   "id": "ad4cdc1d-0791-4fc5-8902-b0976d87f812",
   "metadata": {},
   "outputs": [
    {
     "name": "stdout",
     "output_type": "stream",
     "text": [
      "69\n"
     ]
    }
   ],
   "source": [
    "def minimum_fold(height = 4.0175*10**16):\n",
    "    thickness = 0.00008\n",
    "    fold_times =0\n",
    "    while True:\n",
    "        thickness = thickness*2\n",
    "        fold_times+=1\n",
    "        if thickness>height:\n",
    "            break\n",
    "    print(fold_times)\n",
    "minimum_fold(height = 4.0175*10**16)"
   ]
  },
  {
   "cell_type": "markdown",
   "id": "d6a9006d-a10b-4a00-8443-265fc0c3a26e",
   "metadata": {},
   "source": [
    "problem 3 Required paper length"
   ]
  },
  {
   "cell_type": "code",
   "execution_count": 27,
   "id": "4a6f7c22-6c76-4de2-9357-2331d54dee89",
   "metadata": {},
   "outputs": [],
   "source": [
    "def compute_paper_length(number_of_folds,thickness = 0.00008):\n",
    "    # formula \n",
    "    pi = math.pi\n",
    "    paper_length = ((pi*thickness)/6)*(2**number_of_folds+4)*(2**number_of_folds-1)\n",
    "\n",
    "    return paper_length"
   ]
  },
  {
   "cell_type": "code",
   "execution_count": 26,
   "id": "65acea00-704a-4792-84e0-907590d21fcd",
   "metadata": {},
   "outputs": [],
   "source": [
    "import math\n"
   ]
  },
  {
   "cell_type": "code",
   "execution_count": 14,
   "id": "122ebf0b-460b-45d6-80b4-fd38641229e1",
   "metadata": {},
   "outputs": [
    {
     "name": "stdout",
     "output_type": "stream",
     "text": [
      "Number of folds 26 that paper can be higher than Mt.Fuji\n"
     ]
    }
   ],
   "source": [
    "thickness = 0.00008\n",
    "mt_fuji_height = 3776\n",
    "folds = math.ceil(math.log2(mt_fuji_height/thickness))\n",
    "print(f\"Number of folds {folds} that paper can be higher than Mt.Fuji\")"
   ]
  },
  {
   "cell_type": "code",
   "execution_count": 17,
   "id": "a33ca9cb-50b1-4a2e-8928-4db34eb8f88e",
   "metadata": {},
   "outputs": [
    {
     "name": "stdout",
     "output_type": "stream",
     "text": [
      "5368.70912\n"
     ]
    }
   ],
   "source": [
    "print(thickness*(2**(folds)))"
   ]
  },
  {
   "cell_type": "code",
   "execution_count": 21,
   "id": "e417b9f1-f1a6-463a-a2f6-87876d5e7984",
   "metadata": {},
   "outputs": [],
   "source": [
    "def compute_number_of_fold(height, thickness = 0.00008):\n",
    "    fold_times = 0\n",
    "    while True:\n",
    "        thickness = thickness*2\n",
    "        fold_times+=1\n",
    "        if thickness>height:\n",
    "            break\n",
    "    \n",
    "    return fold_times"
   ]
  },
  {
   "cell_type": "code",
   "execution_count": 28,
   "id": "e3fca7a5-ecab-42d8-9908-269caf343cc8",
   "metadata": {},
   "outputs": [
    {
     "name": "stdout",
     "output_type": "stream",
     "text": [
      "The paper length to reach Moon = 3240919444170.78 million km.\n"
     ]
    }
   ],
   "source": [
    "folds = 43\n",
    "paper_length = compute_paper_length(number_of_folds=folds,thickness = 0.00008)\n",
    "print(f\"The paper length to reach Moon = {round(paper_length/(1000*1000000), 2)} million km.\")"
   ]
  },
  {
   "cell_type": "code",
   "execution_count": 29,
   "id": "c4cdd08c-4abc-4f14-970e-09016ee9e547",
   "metadata": {},
   "outputs": [
    {
     "name": "stdout",
     "output_type": "stream",
     "text": [
      "The paper length to reach Mt.Fuji = 47.16 million km.\n"
     ]
    }
   ],
   "source": [
    "folds = 25\n",
    "paper_length = compute_paper_length(number_of_folds=folds,thickness = 0.00008)\n",
    "\n",
    "print(f\"The paper length to reach Mt.Fuji = {round(paper_length/(1000*1000000), 2)} million km.\")"
   ]
  },
  {
   "cell_type": "code",
   "execution_count": 30,
   "id": "3550a9ea-747d-4414-9f07-04facdb6c15f",
   "metadata": {},
   "outputs": [
    {
     "name": "stdout",
     "output_type": "stream",
     "text": [
      "The paper length to reach Proxima Centauri = 1.459580360110035e+28 million km.\n"
     ]
    }
   ],
   "source": [
    "folds = 69\n",
    "paper_length = compute_paper_length(number_of_folds=folds,thickness = 0.00008)\n",
    "\n",
    "print(f\"The paper length to reach Proxima Centauri = {round(paper_length/(1000*1000000), 2)} million km.\")"
   ]
  },
  {
   "cell_type": "code",
   "execution_count": null,
   "id": "fd8fb2a8-72f9-432c-916e-478832a2ce8a",
   "metadata": {},
   "outputs": [],
   "source": []
  }
 ],
 "metadata": {
  "kernelspec": {
   "display_name": "Python 3 (ipykernel)",
   "language": "python",
   "name": "python3"
  },
  "language_info": {
   "codemirror_mode": {
    "name": "ipython",
    "version": 3
   },
   "file_extension": ".py",
   "mimetype": "text/x-python",
   "name": "python",
   "nbconvert_exporter": "python",
   "pygments_lexer": "ipython3",
   "version": "3.10.11"
  }
 },
 "nbformat": 4,
 "nbformat_minor": 5
}
