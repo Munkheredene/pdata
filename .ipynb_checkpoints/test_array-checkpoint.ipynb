{
 "cells": [
  {
   "cell_type": "code",
   "execution_count": 1,
   "id": "26dfad19-96de-417f-83a7-84dcdcaeab95",
   "metadata": {},
   "outputs": [
    {
     "ename": "NameError",
     "evalue": "name 'np' is not defined",
     "output_type": "error",
     "traceback": [
      "\u001b[1;31m---------------------------------------------------------------------------\u001b[0m",
      "\u001b[1;31mNameError\u001b[0m                                 Traceback (most recent call last)",
      "Cell \u001b[1;32mIn[1], line 1\u001b[0m\n\u001b[1;32m----> 1\u001b[0m a \u001b[38;5;241m=\u001b[39m \u001b[43mnp\u001b[49m\u001b[38;5;241m.\u001b[39marray([\u001b[38;5;241m1\u001b[39m, \u001b[38;5;241m2\u001b[39m, \u001b[38;5;241m3\u001b[39m])\n\u001b[0;32m      2\u001b[0m a\n",
      "\u001b[1;31mNameError\u001b[0m: name 'np' is not defined"
     ]
    }
   ],
   "source": [
    "a = np.array([1, 2, 3])\n",
    "a"
   ]
  },
  {
   "cell_type": "code",
   "execution_count": 2,
   "id": "2ae5112b-fc74-4579-b6e5-0f0f80afae7d",
   "metadata": {},
   "outputs": [],
   "source": [
    "import numpy as np"
   ]
  },
  {
   "cell_type": "code",
   "execution_count": 3,
   "id": "94306f26-7d6b-43fd-a199-fe5fa12725c6",
   "metadata": {},
   "outputs": [
    {
     "data": {
      "text/plain": [
       "array([1, 2, 3])"
      ]
     },
     "execution_count": 3,
     "metadata": {},
     "output_type": "execute_result"
    }
   ],
   "source": [
    "a = np.array([1, 2, 3])\n",
    "a"
   ]
  },
  {
   "cell_type": "code",
   "execution_count": 4,
   "id": "94921287-f466-4fbe-b456-d8e67e605a68",
   "metadata": {},
   "outputs": [],
   "source": [
    "a1 = a"
   ]
  },
  {
   "cell_type": "code",
   "execution_count": 5,
   "id": "370f066a-18d2-401d-9db3-e02fc64fdc19",
   "metadata": {},
   "outputs": [
    {
     "data": {
      "text/plain": [
       "array([1, 2, 5])"
      ]
     },
     "execution_count": 5,
     "metadata": {},
     "output_type": "execute_result"
    }
   ],
   "source": [
    "a1[2] = 5\n",
    "a1"
   ]
  },
  {
   "cell_type": "code",
   "execution_count": 6,
   "id": "dc09a2f2-3353-4351-962b-fab3786e33ba",
   "metadata": {},
   "outputs": [
    {
     "data": {
      "text/plain": [
       "array([1, 2, 5])"
      ]
     },
     "execution_count": 6,
     "metadata": {},
     "output_type": "execute_result"
    }
   ],
   "source": [
    "a"
   ]
  },
  {
   "cell_type": "code",
   "execution_count": 7,
   "id": "78e8048c-b572-46ef-b432-7ecf5e2209a5",
   "metadata": {},
   "outputs": [
    {
     "data": {
      "text/plain": [
       "array([1, 2, 5])"
      ]
     },
     "execution_count": 7,
     "metadata": {},
     "output_type": "execute_result"
    }
   ],
   "source": [
    "a2 = a.copy()\n",
    "a2"
   ]
  },
  {
   "cell_type": "code",
   "execution_count": 8,
   "id": "e785cf12-06f1-4623-8b87-cae1f18dedf4",
   "metadata": {},
   "outputs": [
    {
     "data": {
      "text/plain": [
       "array([ 1,  2, 10])"
      ]
     },
     "execution_count": 8,
     "metadata": {},
     "output_type": "execute_result"
    }
   ],
   "source": [
    "a2[2] = 10\n",
    "a2"
   ]
  },
  {
   "cell_type": "code",
   "execution_count": 9,
   "id": "175af121-a057-4a91-85ab-bf73d9911ec3",
   "metadata": {},
   "outputs": [
    {
     "data": {
      "text/plain": [
       "array([1, 2, 5])"
      ]
     },
     "execution_count": 9,
     "metadata": {},
     "output_type": "execute_result"
    }
   ],
   "source": [
    "a"
   ]
  },
  {
   "cell_type": "code",
   "execution_count": 10,
   "id": "25fb2492-498b-430b-a485-b750417b33fc",
   "metadata": {},
   "outputs": [
    {
     "data": {
      "text/plain": [
       "array([0, 1, 2, 3, 4, 5, 6, 7, 8, 9])"
      ]
     },
     "execution_count": 10,
     "metadata": {},
     "output_type": "execute_result"
    }
   ],
   "source": [
    "np.arange(10)"
   ]
  },
  {
   "cell_type": "code",
   "execution_count": 11,
   "id": "4684b03f-91cf-4f62-890f-8a846ceb4e3a",
   "metadata": {},
   "outputs": [
    {
     "data": {
      "text/plain": [
       "array([ 1,  2,  3,  4,  5,  6,  7,  8,  9, 10])"
      ]
     },
     "execution_count": 11,
     "metadata": {},
     "output_type": "execute_result"
    }
   ],
   "source": [
    "np.arange(1, 11)"
   ]
  },
  {
   "cell_type": "code",
   "execution_count": 12,
   "id": "50989876-e020-4b14-8fc2-2a5d5e348ec6",
   "metadata": {},
   "outputs": [
    {
     "data": {
      "text/plain": [
       "array([1, 3, 5, 7, 9])"
      ]
     },
     "execution_count": 12,
     "metadata": {},
     "output_type": "execute_result"
    }
   ],
   "source": [
    "np.arange(1, 11, 2)"
   ]
  },
  {
   "cell_type": "code",
   "execution_count": 13,
   "id": "1a4fa82b-550d-4893-a445-6271d51f3489",
   "metadata": {},
   "outputs": [
    {
     "data": {
      "text/plain": [
       "array([[0.05029453, 0.91368657],\n",
       "       [0.86673872, 0.80123646],\n",
       "       [0.32442337, 0.17730248],\n",
       "       [0.90794544, 0.59716387]])"
      ]
     },
     "execution_count": 13,
     "metadata": {},
     "output_type": "execute_result"
    }
   ],
   "source": [
    "f_array = np.random.random((4, 2))\n",
    "f_array"
   ]
  },
  {
   "cell_type": "code",
   "execution_count": 14,
   "id": "85b30e15-ff6b-4081-ae80-0643473d88e5",
   "metadata": {},
   "outputs": [
    {
     "data": {
      "text/plain": [
       "array([[3, 3, 7, 2, 4],\n",
       "       [7, 2, 1, 2, 1],\n",
       "       [1, 4, 5, 1, 1]])"
      ]
     },
     "execution_count": 14,
     "metadata": {},
     "output_type": "execute_result"
    }
   ],
   "source": [
    "np.random.seed(123)\n",
    "np.random.randint(1, 10, (3, 5))"
   ]
  },
  {
   "cell_type": "code",
   "execution_count": 3,
   "id": "c437b668-363b-486d-ae17-c0acdd291be5",
   "metadata": {},
   "outputs": [
    {
     "data": {
      "text/plain": [
       "array([ 2,  5,  8, 11, 14, 17])"
      ]
     },
     "execution_count": 3,
     "metadata": {},
     "output_type": "execute_result"
    }
   ],
   "source": [
    "import numpy as np\n",
    "np.arange(2,20,3)"
   ]
  },
  {
   "cell_type": "code",
   "execution_count": 4,
   "id": "6e02d03c-ac3d-4a38-998e-972a3f7d634e",
   "metadata": {},
   "outputs": [
    {
     "name": "stdout",
     "output_type": "stream",
     "text": [
      "text\n"
     ]
    }
   ],
   "source": [
    "print(\"text\")"
   ]
  },
  {
   "cell_type": "code",
   "execution_count": 5,
   "id": "d6c9674b-7e13-4936-8dd1-c44128723ca9",
   "metadata": {},
   "outputs": [
    {
     "name": "stdout",
     "output_type": "stream",
     "text": [
      "<class 'str'>\n"
     ]
    }
   ],
   "source": [
    "print(type(\"text\"))"
   ]
  },
  {
   "cell_type": "code",
   "execution_count": 6,
   "id": "760d9d14-32e0-4edb-bb5a-aeefda61e2ee",
   "metadata": {},
   "outputs": [
    {
     "name": "stdout",
     "output_type": "stream",
     "text": [
      "learn python\n",
      "Hello\n",
      "Alice\n"
     ]
    }
   ],
   "source": [
    "print(\"learn python\")\n",
    "print(\"Hello\")\n",
    "student_name = \"Alice\"\n",
    "print(student_name)"
   ]
  },
  {
   "cell_type": "code",
   "execution_count": 7,
   "id": "8fb43663-b561-4bb1-9594-78c1f48ab10e",
   "metadata": {},
   "outputs": [
    {
     "ename": "NameError",
     "evalue": "name 'text' is not defined",
     "output_type": "error",
     "traceback": [
      "\u001b[1;31m---------------------------------------------------------------------------\u001b[0m",
      "\u001b[1;31mNameError\u001b[0m                                 Traceback (most recent call last)",
      "Cell \u001b[1;32mIn[7], line 1\u001b[0m\n\u001b[1;32m----> 1\u001b[0m \u001b[38;5;28mprint\u001b[39m(\u001b[43mtext\u001b[49m)\n",
      "\u001b[1;31mNameError\u001b[0m: name 'text' is not defined"
     ]
    }
   ],
   "source": [
    "print(text)"
   ]
  },
  {
   "cell_type": "code",
   "execution_count": 8,
   "id": "330cd10d-3eb6-4a79-936b-38bc7a91ff7c",
   "metadata": {},
   "outputs": [
    {
     "name": "stdout",
     "output_type": "stream",
     "text": [
      "my name isAlice!!\n",
      "The discount rate is12.5%!!\n"
     ]
    }
   ],
   "source": [
    "student_name = \"Alice\"\n",
    "print(f\"my name is{student_name}!!\")\n",
    "discount_rate = 0.125\n",
    "print(f\"The discount rate is{discount_rate:.1%}!!\")\n"
   ]
  },
  {
   "cell_type": "code",
   "execution_count": 9,
   "id": "ecf8ebc1-c385-4677-83f0-61741178e860",
   "metadata": {},
   "outputs": [
    {
     "name": "stdout",
     "output_type": "stream",
     "text": [
      "My name is Alice and I am 19 years old.\n"
     ]
    }
   ],
   "source": [
    "student_name = \"Alice\"\n",
    "student_age = 19\n",
    "print(\"My name is {} and I am {} years old.\".format(student_name, student_age))"
   ]
  },
  {
   "cell_type": "code",
   "execution_count": 10,
   "id": "09ea32eb-dc26-48a9-bdb5-fdba64284a6a",
   "metadata": {},
   "outputs": [
    {
     "name": "stdout",
     "output_type": "stream",
     "text": [
      "Today's lowest temperature is +3 and tomorrow's lowest temperature is -5.\n"
     ]
    }
   ],
   "source": [
    "today_temperature = 3\n",
    "tomorrow_temperature = -5\n",
    "print(\"Today's lowest temperature is {:+} and tomorrow's lowest temperature is {:+}.\".format(today_temperature, tomorrow_temperature))"
   ]
  },
  {
   "cell_type": "code",
   "execution_count": 13,
   "id": "295bb0e8-c48e-4592-9761-a5a474c348b7",
   "metadata": {},
   "outputs": [
    {
     "data": {
      "text/plain": [
       "array([1, 2, 3, 4, 5, 6])"
      ]
     },
     "execution_count": 13,
     "metadata": {},
     "output_type": "execute_result"
    }
   ],
   "source": [
    "c1 = np.array([1, 2, 3, 4, 5, 6])\n",
    "c2 = c1.reshape((2, 3))\n",
    "c4 = c2.ravel()\n",
    "c4"
   ]
  },
  {
   "cell_type": "code",
   "execution_count": 14,
   "id": "eeca6df0-ab2b-42db-9ce6-0c75267650cd",
   "metadata": {},
   "outputs": [
    {
     "data": {
      "text/plain": [
       "array([1, 2, 3, 4, 5, 6])"
      ]
     },
     "execution_count": 14,
     "metadata": {},
     "output_type": "execute_result"
    }
   ],
   "source": [
    "c5 = c2.flatten()\n",
    "c5"
   ]
  },
  {
   "cell_type": "code",
   "execution_count": 15,
   "id": "3b8c2d69-c0e1-447d-9645-1c7320530710",
   "metadata": {},
   "outputs": [
    {
     "data": {
      "text/plain": [
       "array([1, 2, 3])"
      ]
     },
     "execution_count": 15,
     "metadata": {},
     "output_type": "execute_result"
    }
   ],
   "source": [
    "a = np.array([1, 2, 3])\n",
    "a"
   ]
  },
  {
   "cell_type": "code",
   "execution_count": 16,
   "id": "24bb7ad1-0a1b-4db5-9127-7a66c2232382",
   "metadata": {},
   "outputs": [
    {
     "data": {
      "text/plain": [
       "array([[0.19841341, 0.7320541 ],\n",
       "       [0.36695808, 0.22362374],\n",
       "       [0.19050473, 0.91947671],\n",
       "       [0.49041424, 0.350034  ]])"
      ]
     },
     "execution_count": 16,
     "metadata": {},
     "output_type": "execute_result"
    }
   ],
   "source": [
    "f_array = np.random.random((4, 2))\n",
    "f_array"
   ]
  },
  {
   "cell_type": "code",
   "execution_count": 17,
   "id": "3ad97bc0-76e4-4da9-87b4-4590af3d5218",
   "metadata": {},
   "outputs": [
    {
     "data": {
      "text/plain": [
       "array([[3, 3, 7, 2, 4],\n",
       "       [7, 2, 1, 2, 1],\n",
       "       [1, 4, 5, 1, 1]])"
      ]
     },
     "execution_count": 17,
     "metadata": {},
     "output_type": "execute_result"
    }
   ],
   "source": [
    "np.random.seed(123)\n",
    "np.random.randint(1, 10, (3, 5))"
   ]
  },
  {
   "cell_type": "code",
   "execution_count": 18,
   "id": "38aeaca3-90b4-4e8b-b600-c700a4165d4b",
   "metadata": {},
   "outputs": [
    {
     "data": {
      "text/plain": [
       "array([0., 0., 0.])"
      ]
     },
     "execution_count": 18,
     "metadata": {},
     "output_type": "execute_result"
    }
   ],
   "source": [
    "np.zeros(3)"
   ]
  },
  {
   "cell_type": "code",
   "execution_count": 19,
   "id": "5dc2bc15-f1f6-4b14-93c5-231e065dd4de",
   "metadata": {},
   "outputs": [
    {
     "data": {
      "text/plain": [
       "array([[1., 1., 1.],\n",
       "       [1., 1., 1.]])"
      ]
     },
     "execution_count": 19,
     "metadata": {},
     "output_type": "execute_result"
    }
   ],
   "source": [
    "np.ones((2, 3))"
   ]
  },
  {
   "cell_type": "code",
   "execution_count": 20,
   "id": "cc028528-b323-488b-809c-a50700fa6fb2",
   "metadata": {},
   "outputs": [
    {
     "data": {
      "text/plain": [
       "array([[1., 0., 0., 0.],\n",
       "       [0., 1., 0., 0.],\n",
       "       [0., 0., 1., 0.],\n",
       "       [0., 0., 0., 1.]])"
      ]
     },
     "execution_count": 20,
     "metadata": {},
     "output_type": "execute_result"
    }
   ],
   "source": [
    "np.eye(4)"
   ]
  },
  {
   "cell_type": "code",
   "execution_count": 21,
   "id": "47951912-d66f-4373-bc41-9d5039b0ea0f",
   "metadata": {},
   "outputs": [
    {
     "data": {
      "text/plain": [
       "array([10, 10, 10, 10, 10])"
      ]
     },
     "execution_count": 21,
     "metadata": {},
     "output_type": "execute_result"
    }
   ],
   "source": [
    "np.full(5, 10)"
   ]
  },
  {
   "cell_type": "code",
   "execution_count": 22,
   "id": "aad9983b-e082-4a9e-a803-6483be0a3632",
   "metadata": {},
   "outputs": [
    {
     "data": {
      "text/plain": [
       "array([[10, 10, 10, 10, 10],\n",
       "       [10, 10, 10, 10, 10],\n",
       "       [10, 10, 10, 10, 10]])"
      ]
     },
     "execution_count": 22,
     "metadata": {},
     "output_type": "execute_result"
    }
   ],
   "source": [
    "np.full((3,5), 10)"
   ]
  },
  {
   "cell_type": "code",
   "execution_count": 23,
   "id": "d607c86e-b0d1-4a21-b9bb-d2da49ef7719",
   "metadata": {},
   "outputs": [
    {
     "data": {
      "text/plain": [
       "array([[3.14159265, 3.14159265, 3.14159265],\n",
       "       [3.14159265, 3.14159265, 3.14159265]])"
      ]
     },
     "execution_count": 23,
     "metadata": {},
     "output_type": "execute_result"
    }
   ],
   "source": [
    "np.full((2, 3), np.pi)"
   ]
  },
  {
   "cell_type": "code",
   "execution_count": 24,
   "id": "8f067997-a931-4957-8f6b-62fe46cc20f9",
   "metadata": {},
   "outputs": [
    {
     "data": {
      "text/plain": [
       "array([ 1.,  2.,  3., nan])"
      ]
     },
     "execution_count": 24,
     "metadata": {},
     "output_type": "execute_result"
    }
   ],
   "source": [
    "np.array([1, 2, 3, np.nan])"
   ]
  },
  {
   "cell_type": "code",
   "execution_count": 25,
   "id": "11820fed-a74d-4649-b315-964c4f9f8d50",
   "metadata": {},
   "outputs": [
    {
     "data": {
      "text/plain": [
       "array([0.  , 0.25, 0.5 , 0.75, 1.  ])"
      ]
     },
     "execution_count": 25,
     "metadata": {},
     "output_type": "execute_result"
    }
   ],
   "source": [
    "np.linspace(0, 1, 5)"
   ]
  },
  {
   "cell_type": "code",
   "execution_count": 39,
   "id": "d35c6e77-06eb-4f72-8573-1040519c1e0a",
   "metadata": {},
   "outputs": [
    {
     "name": "stdout",
     "output_type": "stream",
     "text": [
      "Collecting matplotlib\n",
      "  Downloading matplotlib-3.8.4-cp310-cp310-win_amd64.whl.metadata (5.9 kB)\n",
      "Collecting contourpy>=1.0.1 (from matplotlib)\n",
      "  Downloading contourpy-1.2.1-cp310-cp310-win_amd64.whl.metadata (5.8 kB)\n",
      "Collecting cycler>=0.10 (from matplotlib)\n",
      "  Downloading cycler-0.12.1-py3-none-any.whl.metadata (3.8 kB)\n",
      "Collecting fonttools>=4.22.0 (from matplotlib)\n",
      "  Downloading fonttools-4.51.0-cp310-cp310-win_amd64.whl.metadata (162 kB)\n",
      "     ---------------------------------------- 0.0/162.8 kB ? eta -:--:--\n",
      "     -- ------------------------------------- 10.2/162.8 kB ? eta -:--:--\n",
      "     ------ ------------------------------ 30.7/162.8 kB 445.2 kB/s eta 0:00:01\n",
      "     ------ ------------------------------ 30.7/162.8 kB 445.2 kB/s eta 0:00:01\n",
      "     --------- --------------------------- 41.0/162.8 kB 179.6 kB/s eta 0:00:01\n",
      "     ------------- ----------------------- 61.4/162.8 kB 252.2 kB/s eta 0:00:01\n",
      "     ------------------------ ----------- 112.6/162.8 kB 364.4 kB/s eta 0:00:01\n",
      "     ------------------------ ----------- 112.6/162.8 kB 364.4 kB/s eta 0:00:01\n",
      "     ------------------------------- ---- 143.4/162.8 kB 355.0 kB/s eta 0:00:01\n",
      "     ------------------------------------ 162.8/162.8 kB 375.7 kB/s eta 0:00:00\n",
      "Collecting kiwisolver>=1.3.1 (from matplotlib)\n",
      "  Downloading kiwisolver-1.4.5-cp310-cp310-win_amd64.whl.metadata (6.5 kB)\n",
      "Requirement already satisfied: numpy>=1.21 in c:\\users\\munkherdene\\appdata\\local\\programs\\python\\python310\\lib\\site-packages (from matplotlib) (1.26.4)\n",
      "Requirement already satisfied: packaging>=20.0 in c:\\users\\munkherdene\\appdata\\local\\programs\\python\\python310\\lib\\site-packages (from matplotlib) (24.0)\n",
      "Collecting pillow>=8 (from matplotlib)\n",
      "  Downloading pillow-10.3.0-cp310-cp310-win_amd64.whl.metadata (9.4 kB)\n",
      "Collecting pyparsing>=2.3.1 (from matplotlib)\n",
      "  Downloading pyparsing-3.1.2-py3-none-any.whl.metadata (5.1 kB)\n",
      "Requirement already satisfied: python-dateutil>=2.7 in c:\\users\\munkherdene\\appdata\\local\\programs\\python\\python310\\lib\\site-packages (from matplotlib) (2.9.0.post0)\n",
      "Requirement already satisfied: six>=1.5 in c:\\users\\munkherdene\\appdata\\local\\programs\\python\\python310\\lib\\site-packages (from python-dateutil>=2.7->matplotlib) (1.16.0)\n",
      "Downloading matplotlib-3.8.4-cp310-cp310-win_amd64.whl (7.7 MB)\n",
      "   ---------------------------------------- 0.0/7.7 MB ? eta -:--:--\n",
      "    --------------------------------------- 0.1/7.7 MB 3.0 MB/s eta 0:00:03\n",
      "    --------------------------------------- 0.2/7.7 MB 2.2 MB/s eta 0:00:04\n",
      "    --------------------------------------- 0.2/7.7 MB 2.2 MB/s eta 0:00:04\n",
      "   - -------------------------------------- 0.2/7.7 MB 1.1 MB/s eta 0:00:07\n",
      "   - -------------------------------------- 0.3/7.7 MB 1.4 MB/s eta 0:00:06\n",
      "   -- ------------------------------------- 0.5/7.7 MB 1.8 MB/s eta 0:00:05\n",
      "   --- ------------------------------------ 0.6/7.7 MB 1.8 MB/s eta 0:00:04\n",
      "   --- ------------------------------------ 0.7/7.7 MB 1.7 MB/s eta 0:00:04\n",
      "   ---- ----------------------------------- 0.9/7.7 MB 2.1 MB/s eta 0:00:04\n",
      "   ----- ---------------------------------- 1.0/7.7 MB 2.2 MB/s eta 0:00:03\n",
      "   ----- ---------------------------------- 1.1/7.7 MB 2.3 MB/s eta 0:00:03\n",
      "   ------ --------------------------------- 1.2/7.7 MB 2.1 MB/s eta 0:00:04\n",
      "   -------- ------------------------------- 1.6/7.7 MB 2.7 MB/s eta 0:00:03\n",
      "   ---------- ----------------------------- 2.1/7.7 MB 3.1 MB/s eta 0:00:02\n",
      "   ----------- ---------------------------- 2.2/7.7 MB 3.1 MB/s eta 0:00:02\n",
      "   ----------- ---------------------------- 2.3/7.7 MB 2.9 MB/s eta 0:00:02\n",
      "   ------------- -------------------------- 2.6/7.7 MB 3.2 MB/s eta 0:00:02\n",
      "   ------------- -------------------------- 2.6/7.7 MB 3.2 MB/s eta 0:00:02\n",
      "   ------------- -------------------------- 2.6/7.7 MB 3.2 MB/s eta 0:00:02\n",
      "   ------------- -------------------------- 2.6/7.7 MB 3.2 MB/s eta 0:00:02\n",
      "   --------------- ------------------------ 2.9/7.7 MB 2.9 MB/s eta 0:00:02\n",
      "   ---------------- ----------------------- 3.2/7.7 MB 3.1 MB/s eta 0:00:02\n",
      "   ---------------- ----------------------- 3.2/7.7 MB 3.1 MB/s eta 0:00:02\n",
      "   ---------------- ----------------------- 3.2/7.7 MB 3.1 MB/s eta 0:00:02\n",
      "   ----------------- ---------------------- 3.4/7.7 MB 2.8 MB/s eta 0:00:02\n",
      "   ----------------- ---------------------- 3.4/7.7 MB 2.8 MB/s eta 0:00:02\n",
      "   ----------------- ---------------------- 3.4/7.7 MB 2.8 MB/s eta 0:00:02\n",
      "   ----------------- ---------------------- 3.4/7.7 MB 2.8 MB/s eta 0:00:02\n",
      "   ------------------ --------------------- 3.5/7.7 MB 2.5 MB/s eta 0:00:02\n",
      "   --------------------- ------------------ 4.1/7.7 MB 2.9 MB/s eta 0:00:02\n",
      "   --------------------- ------------------ 4.1/7.7 MB 2.9 MB/s eta 0:00:02\n",
      "   --------------------- ------------------ 4.1/7.7 MB 2.9 MB/s eta 0:00:02\n",
      "   ----------------------- ---------------- 4.4/7.7 MB 2.8 MB/s eta 0:00:02\n",
      "   ----------------------- ---------------- 4.6/7.7 MB 2.8 MB/s eta 0:00:02\n",
      "   ----------------------- ---------------- 4.6/7.7 MB 2.8 MB/s eta 0:00:02\n",
      "   ----------------------- ---------------- 4.6/7.7 MB 2.8 MB/s eta 0:00:02\n",
      "   ------------------------ --------------- 4.7/7.7 MB 2.6 MB/s eta 0:00:02\n",
      "   ------------------------- -------------- 4.9/7.7 MB 2.7 MB/s eta 0:00:02\n",
      "   ------------------------- -------------- 4.9/7.7 MB 2.7 MB/s eta 0:00:02\n",
      "   ------------------------- -------------- 4.9/7.7 MB 2.7 MB/s eta 0:00:02\n",
      "   --------------------------- ------------ 5.2/7.7 MB 2.6 MB/s eta 0:00:01\n",
      "   ------------------------------ --------- 5.8/7.7 MB 2.8 MB/s eta 0:00:01\n",
      "   --------------------------------- ------ 6.3/7.7 MB 3.1 MB/s eta 0:00:01\n",
      "   ----------------------------------- ---- 6.8/7.7 MB 3.2 MB/s eta 0:00:01\n",
      "   ----------------------------------- ---- 6.8/7.7 MB 3.2 MB/s eta 0:00:01\n",
      "   ----------------------------------- ---- 6.8/7.7 MB 3.2 MB/s eta 0:00:01\n",
      "   ----------------------------------- ---- 6.8/7.7 MB 3.2 MB/s eta 0:00:01\n",
      "   ------------------------------------ --- 7.1/7.7 MB 3.1 MB/s eta 0:00:01\n",
      "   ---------------------------------------- 7.7/7.7 MB 3.2 MB/s eta 0:00:00\n",
      "Downloading contourpy-1.2.1-cp310-cp310-win_amd64.whl (187 kB)\n",
      "   ---------------------------------------- 0.0/187.5 kB ? eta -:--:--\n",
      "   --------------------------------------- 187.5/187.5 kB 11.1 MB/s eta 0:00:00\n",
      "Downloading cycler-0.12.1-py3-none-any.whl (8.3 kB)\n",
      "Downloading fonttools-4.51.0-cp310-cp310-win_amd64.whl (2.2 MB)\n",
      "   ---------------------------------------- 0.0/2.2 MB ? eta -:--:--\n",
      "   ------- -------------------------------- 0.4/2.2 MB 8.1 MB/s eta 0:00:01\n",
      "   -------------- ------------------------- 0.8/2.2 MB 10.2 MB/s eta 0:00:01\n",
      "   ---------------------- ----------------- 1.2/2.2 MB 8.6 MB/s eta 0:00:01\n",
      "   ------------------------- -------------- 1.4/2.2 MB 9.0 MB/s eta 0:00:01\n",
      "   -------------------------------- ------- 1.8/2.2 MB 8.1 MB/s eta 0:00:01\n",
      "   ---------------------------------------  2.2/2.2 MB 7.7 MB/s eta 0:00:01\n",
      "   ---------------------------------------- 2.2/2.2 MB 7.3 MB/s eta 0:00:00\n",
      "Downloading kiwisolver-1.4.5-cp310-cp310-win_amd64.whl (56 kB)\n",
      "   ---------------------------------------- 0.0/56.1 kB ? eta -:--:--\n",
      "   ---------------------------------------- 56.1/56.1 kB 2.9 MB/s eta 0:00:00\n",
      "Downloading pillow-10.3.0-cp310-cp310-win_amd64.whl (2.5 MB)\n",
      "   ---------------------------------------- 0.0/2.5 MB ? eta -:--:--\n",
      "   ------ --------------------------------- 0.4/2.5 MB 12.8 MB/s eta 0:00:01\n",
      "   ------------- -------------------------- 0.9/2.5 MB 10.9 MB/s eta 0:00:01\n",
      "   -------------------- ------------------- 1.3/2.5 MB 10.3 MB/s eta 0:00:01\n",
      "   ---------------------- ----------------- 1.5/2.5 MB 10.2 MB/s eta 0:00:01\n",
      "   ----------------------------- ---------- 1.9/2.5 MB 8.6 MB/s eta 0:00:01\n",
      "   -------------------------------------- - 2.4/2.5 MB 8.5 MB/s eta 0:00:01\n",
      "   ---------------------------------------- 2.5/2.5 MB 8.1 MB/s eta 0:00:00\n",
      "Downloading pyparsing-3.1.2-py3-none-any.whl (103 kB)\n",
      "   ---------------------------------------- 0.0/103.2 kB ? eta -:--:--\n",
      "   ---------------------------------------- 103.2/103.2 kB 6.2 MB/s eta 0:00:00\n",
      "Installing collected packages: pyparsing, pillow, kiwisolver, fonttools, cycler, contourpy, matplotlib\n",
      "Successfully installed contourpy-1.2.1 cycler-0.12.1 fonttools-4.51.0 kiwisolver-1.4.5 matplotlib-3.8.4 pillow-10.3.0 pyparsing-3.1.2\n",
      "Note: you may need to restart the kernel to use updated packages.\n"
     ]
    }
   ],
   "source": [
    "pip install matplotlib"
   ]
  },
  {
   "cell_type": "code",
   "execution_count": 47,
   "id": "b769de0a-8324-4e46-8bdf-47b8518cc104",
   "metadata": {},
   "outputs": [],
   "source": [
    "import matplotlib.pyplot as plt \n"
   ]
  },
  {
   "cell_type": "code",
   "execution_count": 45,
   "id": "13834c93-6dcf-466b-8a74-d01cb5752446",
   "metadata": {},
   "outputs": [
    {
     "data": {
      "image/png": "[encoded data removed]",
      "text/plain": [
       "<Figure size 640x480 with 1 Axes>"
      ]
     },
     "metadata": {},
     "output_type": "display_data"
    }
   ],
   "source": [
    "dfnum = 3\n",
    "dfden = 20\n",
    "nonc = 3.0\n",
    "nc_vals = np.random.noncentral_f(dfnum, dfden, nonc, 1000000)\n",
    "NF = np.histogram(nc_vals, bins=50, density=True)\n",
    "c_vals = np.random.f(dfnum, dfden, 1000000)\n",
    "F = np.histogram(c_vals, bins=50, density=True)\n",
    "plt.plot(F[1][1:], F[0])\n",
    "plt.plot(NF[1][1:], NF[0])\n",
    "plt.show()"
   ]
  },
  {
   "cell_type": "code",
   "execution_count": 51,
   "id": "517bc182-d8bb-4124-b0de-e468332058ae",
   "metadata": {},
   "outputs": [
    {
     "data": {
      "image/png": "[encoded data removed]",
      "text/plain": [
       "<Figure size 640x480 with 1 Axes>"
      ]
     },
     "metadata": {},
     "output_type": "display_data"
    }
   ],
   "source": [
    "mu, sigma = 0, 0.1\n",
    "s = np.random.normal(mu, sigma, 1000)\n",
    "abs(mu - np.mean(s))\n",
    "abs(sigma - np.std(s, ddof=1))\n",
    "count, bins, ignored = plt.hist(s, 30, density=True)\n",
    "plt.plot(bins, 1/(sigma * np.sqrt(2 * np.pi)) * np.exp( - (bins - mu)**2 / (2 * sigma**2) ),linewidth=2, color='r')\n",
    "plt.show()"
   ]
  },
  {
   "cell_type": "code",
   "execution_count": 52,
   "id": "c04a78cb-bda5-4508-b6d4-8133ae905ce5",
   "metadata": {},
   "outputs": [
    {
     "data": {
      "text/plain": [
       "array([[5.5557912 , 2.9569687 , 3.02755279, 4.41091431],\n",
       "       [5.47304724, 3.8192613 , 1.74000343, 3.16360952]])"
      ]
     },
     "execution_count": 52,
     "metadata": {},
     "output_type": "execute_result"
    }
   ],
   "source": [
    "np.random.normal(3, 2.5, size=(2, 4))"
   ]
  },
  {
   "cell_type": "code",
   "execution_count": 53,
   "id": "eea6f02e-7037-44d5-9244-a2a998ff6b48",
   "metadata": {},
   "outputs": [
    {
     "data": {
      "text/plain": [
       "array([ 0,  4, -3,  2])"
      ]
     },
     "execution_count": 53,
     "metadata": {},
     "output_type": "execute_result"
    }
   ],
   "source": [
    "l = np.array([1, 1, 5, 2, 4])\n",
    "np.diff(l)"
   ]
  },
  {
   "cell_type": "code",
   "execution_count": 55,
   "id": "eeab88a6-f742-413d-a97d-408badf1aa84",
   "metadata": {},
   "outputs": [
    {
     "data": {
      "text/plain": [
       "array([ 0.        ,  0.52631579,  1.05263158,  1.57894737,  2.10526316,\n",
       "        2.63157895,  3.15789474,  3.68421053,  4.21052632,  4.73684211,\n",
       "        5.26315789,  5.78947368,  6.31578947,  6.84210526,  7.36842105,\n",
       "        7.89473684,  8.42105263,  8.94736842,  9.47368421, 10.        ])"
      ]
     },
     "execution_count": 55,
     "metadata": {},
     "output_type": "execute_result"
    }
   ],
   "source": [
    "np.linspace(0,10,20)"
   ]
  },
  {
   "cell_type": "code",
   "execution_count": 56,
   "id": "bf03e11b-f349-4286-9a5f-3f7797b1f01b",
   "metadata": {},
   "outputs": [
    {
     "data": {
      "text/plain": [
       "array([[4.50946053, 3.71171101],\n",
       "       [2.33304485, 1.31667403],\n",
       "       [2.31873444, 4.56174608],\n",
       "       [3.9738634 , 2.85090611]])"
      ]
     },
     "execution_count": 56,
     "metadata": {},
     "output_type": "execute_result"
    }
   ],
   "source": [
    "np.random.uniform(0.0,5.0,size=(4,2))"
   ]
  },
  {
   "cell_type": "code",
   "execution_count": 58,
   "id": "92e9ef76-2201-4f78-8862-a26aedce6e23",
   "metadata": {},
   "outputs": [
    {
     "data": {
      "text/plain": [
       "array([[ 1,  2,  3, 10, 20],\n",
       "       [ 4,  5,  6, 30, 40]])"
      ]
     },
     "execution_count": 58,
     "metadata": {},
     "output_type": "execute_result"
    }
   ],
   "source": [
    "c = np.array([[1, 2, 3], [4, 5, 6]])\n",
    "d = np.array([[10, 20], [30, 40]])\n",
    "np.concatenate([c, d], axis=1)"
   ]
  },
  {
   "cell_type": "code",
   "execution_count": 64,
   "id": "b670653c-e7b5-4637-ba70-d76613d7e94b",
   "metadata": {},
   "outputs": [],
   "source": [
    "a = np.array([[1, 2, 10], [3, 4, 20], [5, 6, 30], [7, 8, 40]])"
   ]
  },
  {
   "cell_type": "code",
   "execution_count": 62,
   "id": "86e45d95-f761-4ea3-b94d-29308c4991e7",
   "metadata": {},
   "outputs": [],
   "source": [
    "b = np.array([[1, 2, 3], [4, 5, 6], [7, 8, 9]])"
   ]
  },
  {
   "cell_type": "code",
   "execution_count": 65,
   "id": "c37b6c8d-d3bd-4500-a1d9-8c988b7e8bf0",
   "metadata": {},
   "outputs": [
    {
     "data": {
      "text/plain": [
       "array([[ 1,  3,  5,  7],\n",
       "       [ 2,  4,  6,  8],\n",
       "       [10, 20, 30, 40]])"
      ]
     },
     "execution_count": 65,
     "metadata": {},
     "output_type": "execute_result"
    }
   ],
   "source": [
    "a.T"
   ]
  },
  {
   "cell_type": "code",
   "execution_count": 68,
   "id": "9e216ed2-45a3-4d6f-9290-dc1a17a28d41",
   "metadata": {},
   "outputs": [
    {
     "data": {
      "text/plain": [
       "array([[5, 5, 5, 5],\n",
       "       [6, 6, 6, 6],\n",
       "       [7, 7, 7, 7]])"
      ]
     },
     "execution_count": 68,
     "metadata": {},
     "output_type": "execute_result"
    }
   ],
   "source": [
    "x = np.array([1, 2, 3, 4])\n",
    "y = np.array([5, 6, 7])\n",
    "xx, yy = np.meshgrid(x, y)\n",
    "yy"
   ]
  },
  {
   "cell_type": "code",
   "execution_count": 69,
   "id": "ecd1b8a8-fb93-4d99-86f2-8bf9abe43ac8",
   "metadata": {},
   "outputs": [],
   "source": [
    "a = np.array([[-1, -2, -3, 4, 5], [6, 7, -8, -9, -10]])"
   ]
  },
  {
   "cell_type": "code",
   "execution_count": 70,
   "id": "7d80012c-da33-4e33-951c-e75a700e8784",
   "metadata": {},
   "outputs": [
    {
     "data": {
      "text/plain": [
       "array([[ 1,  2,  3,  4,  5],\n",
       "       [ 6,  7,  8,  9, 10]])"
      ]
     },
     "execution_count": 70,
     "metadata": {},
     "output_type": "execute_result"
    }
   ],
   "source": [
    "np.abs(a)"
   ]
  },
  {
   "cell_type": "code",
   "execution_count": 71,
   "id": "1833dbc1-8630-44fc-a1b4-f8fa52b9b34d",
   "metadata": {},
   "outputs": [
    {
     "data": {
      "text/plain": [
       "array([11, 12, 13])"
      ]
     },
     "execution_count": 71,
     "metadata": {},
     "output_type": "execute_result"
    }
   ],
   "source": [
    "a = np.array([1, 2, 3])\n",
    "b = np.array([4, 5, 6])\n",
    "c = np.array([[10, 20, 30], [40, 50, 60]])\n",
    "d = np.array([[1], [2], [3]])\n",
    "a + 10"
   ]
  },
  {
   "cell_type": "code",
   "execution_count": 72,
   "id": "6abcf524-7220-4daf-ac00-f006408a2c05",
   "metadata": {},
   "outputs": [
    {
     "data": {
      "text/plain": [
       "array([[2, 3, 4],\n",
       "       [3, 4, 5],\n",
       "       [4, 5, 6]])"
      ]
     },
     "execution_count": 72,
     "metadata": {},
     "output_type": "execute_result"
    }
   ],
   "source": [
    "a + d"
   ]
  },
  {
   "cell_type": "code",
   "execution_count": 73,
   "id": "18441625-44f8-48cb-8441-896108b351d7",
   "metadata": {},
   "outputs": [
    {
     "name": "stderr",
     "output_type": "stream",
     "text": [
      "C:\\Users\\munkherdene\\AppData\\Local\\Temp\\ipykernel_23392\\1354053637.py:3: RuntimeWarning: divide by zero encountered in divide\n",
      "  a / a_inf\n"
     ]
    },
    {
     "data": {
      "text/plain": [
       "array([inf,  1., inf])"
      ]
     },
     "execution_count": 73,
     "metadata": {},
     "output_type": "execute_result"
    }
   ],
   "source": [
    "a = np.array([1, 2, 3])\n",
    "a_inf = np.array([0, 2, 0])\n",
    "a / a_inf"
   ]
  },
  {
   "cell_type": "code",
   "execution_count": 75,
   "id": "8211e3ad-69a7-46fb-a2d1-357c5b628a65",
   "metadata": {},
   "outputs": [
    {
     "data": {
      "text/plain": [
       "1.5620499351813308"
      ]
     },
     "execution_count": 75,
     "metadata": {},
     "output_type": "execute_result"
    }
   ],
   "source": [
    "x = np.array([-1.2, 1.2])\n",
    "np.absolute(x)\n",
    "np.absolute(1.2 + 1j)\n"
   ]
  },
  {
   "cell_type": "code",
   "execution_count": 76,
   "id": "566b42fd-490a-4d03-9308-74bb2f1bce26",
   "metadata": {},
   "outputs": [
    {
     "data": {
      "image/png": "[encoded data removed]",
      "text/plain": [
       "<Figure size 640x480 with 1 Axes>"
      ]
     },
     "metadata": {},
     "output_type": "display_data"
    }
   ],
   "source": [
    "import matplotlib.pyplot as plt\n",
    "x = np.linspace(start=-10, stop=10, num=101)\n",
    "plt.plot(x, np.absolute(x))\n",
    "plt.show()"
   ]
  },
  {
   "cell_type": "code",
   "execution_count": 77,
   "id": "ff4ddaff-bf22-4e1b-9cac-d575098a9d2c",
   "metadata": {},
   "outputs": [
    {
     "data": {
      "image/png": "[encoded data removed]",
      "text/plain": [
       "<Figure size 640x480 with 1 Axes>"
      ]
     },
     "metadata": {},
     "output_type": "display_data"
    }
   ],
   "source": [
    "xx = x + 1j * x[:, np.newaxis]\n",
    "\n",
    "plt.imshow(np.abs(xx), extent=[-10, 10, -10, 10], cmap='gray')\n",
    "\n",
    "plt.show()"
   ]
  },
  {
   "cell_type": "code",
   "execution_count": 79,
   "id": "b10b9689-3ac2-45e3-8d79-d63d7b49407c",
   "metadata": {},
   "outputs": [
    {
     "ename": "ValueError",
     "evalue": "shapes (3,) and (2,3) not aligned: 3 (dim 0) != 2 (dim 0)",
     "output_type": "error",
     "traceback": [
      "\u001b[1;31m---------------------------------------------------------------------------\u001b[0m",
      "\u001b[1;31mValueError\u001b[0m                                Traceback (most recent call last)",
      "Cell \u001b[1;32mIn[79], line 3\u001b[0m\n\u001b[0;32m      1\u001b[0m a \u001b[38;5;241m=\u001b[39m np\u001b[38;5;241m.\u001b[39marray([\u001b[38;5;241m1\u001b[39m, \u001b[38;5;241m2\u001b[39m, \u001b[38;5;241m3\u001b[39m])\n\u001b[0;32m      2\u001b[0m b \u001b[38;5;241m=\u001b[39m np\u001b[38;5;241m.\u001b[39marray([[\u001b[38;5;241m2\u001b[39m, \u001b[38;5;241m3\u001b[39m, \u001b[38;5;241m4\u001b[39m], [\u001b[38;5;241m4\u001b[39m, \u001b[38;5;241m5\u001b[39m, \u001b[38;5;241m6\u001b[39m]])\n\u001b[1;32m----> 3\u001b[0m \u001b[43mnp\u001b[49m\u001b[38;5;241;43m.\u001b[39;49m\u001b[43mdot\u001b[49m\u001b[43m(\u001b[49m\u001b[43ma\u001b[49m\u001b[43m,\u001b[49m\u001b[43m \u001b[49m\u001b[43mb\u001b[49m\u001b[43m)\u001b[49m\n",
      "\u001b[1;31mValueError\u001b[0m: shapes (3,) and (2,3) not aligned: 3 (dim 0) != 2 (dim 0)"
     ]
    }
   ],
   "source": [
    "a = np.array([1, 2, 3])\n",
    "b = np.array([[2, 3, 4], [4, 5, 6]])\n",
    "np.dot(a, b)"
   ]
  },
  {
   "cell_type": "code",
   "execution_count": 80,
   "id": "c05ae379-445f-4b24-a458-95b5cd2e513e",
   "metadata": {},
   "outputs": [
    {
     "data": {
      "text/plain": [
       "False"
      ]
     },
     "execution_count": 80,
     "metadata": {},
     "output_type": "execute_result"
    }
   ],
   "source": [
    "a = np.array([[1, 2, 3, 4, 5, 6, 7, 8], [2, 3, 4, 5, 6, 7, 8, 9], [3, 4, 5, 6, 7, 8, 9, 10]])\n",
    "np.any(a > 10)"
   ]
  },
  {
   "cell_type": "code",
   "execution_count": 81,
   "id": "b070d37e-1432-4229-ac0b-881e0f44284c",
   "metadata": {},
   "outputs": [
    {
     "data": {
      "text/plain": [
       "array([[1, 1],\n",
       "       [1, 1]])"
      ]
     },
     "execution_count": 81,
     "metadata": {},
     "output_type": "execute_result"
    }
   ],
   "source": [
    "a = np.array([[1, 2, 3], [2, 3, 4]])\n",
    "np.diff(a)"
   ]
  },
  {
   "cell_type": "code",
   "execution_count": 82,
   "id": "0303e490-a117-42c4-9060-a77909e47b3b",
   "metadata": {},
   "outputs": [
    {
     "data": {
      "text/plain": [
       "array([1, 2, 3, 4, 5])"
      ]
     },
     "execution_count": 82,
     "metadata": {},
     "output_type": "execute_result"
    }
   ],
   "source": [
    "a = np.array([1, 2, 3])\n",
    "b = np.array([4, 5])\n",
    "\n",
    "np.concatenate([a, b])"
   ]
  },
  {
   "cell_type": "code",
   "execution_count": 83,
   "id": "6532f06a-8eb7-4b11-a30a-e855249d1078",
   "metadata": {},
   "outputs": [
    {
     "data": {
      "text/plain": [
       "array([['a', 'b', 'c', 'd', 'e', 'f'],\n",
       "       ['g', 'h', 'i', 'j', 'k', 'l']], dtype='<U1')"
      ]
     },
     "execution_count": 83,
     "metadata": {},
     "output_type": "execute_result"
    }
   ],
   "source": [
    "a = np.array([[\"a\", \"b\", \"c\"], [\"g\", \"h\", \"i\"]])\n",
    "b = np.array([[\"d\", \"e\", \"f\"], [\"j\", \"k\", \"l\"]])\n",
    "\n",
    "np.concatenate([a, b], axis=1)"
   ]
  },
  {
   "cell_type": "markdown",
   "id": "4ce6b440-4f3c-42a0-be00-08c9f1e88ab3",
   "metadata": {},
   "source": [
    "# np.array([1,2,3])[:, ()]"
   ]
  },
  {
   "cell_type": "code",
   "execution_count": 86,
   "id": "d7ed644f-03dd-40ab-90a5-4712b5bbbbde",
   "metadata": {},
   "outputs": [
    {
     "data": {
      "text/plain": [
       "array([[1],\n",
       "       [2],\n",
       "       [3]])"
      ]
     },
     "execution_count": 86,
     "metadata": {},
     "output_type": "execute_result"
    }
   ],
   "source": [
    " np.array([1,2,3])[:,np.newaxis]"
   ]
  },
  {
   "cell_type": "code",
   "execution_count": 88,
   "id": "975cfa71-662f-410f-84fa-74ec157c9e08",
   "metadata": {},
   "outputs": [
    {
     "data": {
      "text/plain": [
       "array([3, 5, 9])"
      ]
     },
     "execution_count": 88,
     "metadata": {},
     "output_type": "execute_result"
    }
   ],
   "source": [
    "np.sum([[1, 2], [2, 3], [4, 5]],1)"
   ]
  },
  {
   "cell_type": "code",
   "execution_count": 91,
   "id": "07e6dbba-0ede-4be2-a06f-e251af3a8b41",
   "metadata": {},
   "outputs": [
    {
     "data": {
      "text/plain": [
       "1"
      ]
     },
     "execution_count": 91,
     "metadata": {},
     "output_type": "execute_result"
    }
   ],
   "source": [
    "a = np.array([[1, 2, 3], [2, 3, 4]])\n",
    "b = a\n",
    "\n",
    "a[0][0] = 0\n",
    "b[0][0] = 1\n",
    "a[0][0]"
   ]
  },
  {
   "cell_type": "code",
   "execution_count": 99,
   "id": "253743b7-47da-4b94-92cb-530149f3705f",
   "metadata": {},
   "outputs": [
    {
     "ename": "NameError",
     "evalue": "name 'array' is not defined",
     "output_type": "error",
     "traceback": [
      "\u001b[1;31m---------------------------------------------------------------------------\u001b[0m",
      "\u001b[1;31mNameError\u001b[0m                                 Traceback (most recent call last)",
      "Cell \u001b[1;32mIn[99], line 1\u001b[0m\n\u001b[1;32m----> 1\u001b[0m \u001b[43marray\u001b[49m([[\u001b[38;5;241m1\u001b[39m], [\u001b[38;5;241m2\u001b[39m], [\u001b[38;5;241m3\u001b[39m]])\n",
      "\u001b[1;31mNameError\u001b[0m: name 'array' is not defined"
     ]
    }
   ],
   "source": [
    "array([[1], [2], [3]])\n"
   ]
  },
  {
   "cell_type": "code",
   "execution_count": null,
   "id": "840b2291-2c53-4161-9116-976cf4394c77",
   "metadata": {},
   "outputs": [],
   "source": []
  },
  {
   "cell_type": "code",
   "execution_count": null,
   "id": "593349cd-2817-4741-9dc0-6fbb05328eff",
   "metadata": {},
   "outputs": [],
   "source": []
  }
 ],
 "metadata": {
  "kernelspec": {
   "display_name": "Python 3 (ipykernel)",
   "language": "python",
   "name": "python3"
  },
  "language_info": {
   "codemirror_mode": {
    "name": "ipython",
    "version": 3
   },
   "file_extension": ".py",
   "mimetype": "text/x-python",
   "name": "python",
   "nbconvert_exporter": "python",
   "pygments_lexer": "ipython3",
   "version": "3.10.11"
  }
 },
 "nbformat": 4,
 "nbformat_minor": 5
}
