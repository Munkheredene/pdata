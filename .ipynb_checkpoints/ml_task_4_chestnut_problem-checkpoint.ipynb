{
 "cells": [
  {
   "cell_type": "code",
   "execution_count": 5,
   "id": "88a29a62-1e8f-4e2f-bde1-1b11f8f3eb5f",
   "metadata": {},
   "outputs": [],
   "source": [
    "def compute_period(chestnut_volume, \n",
    "                   volume_of_solar_system):\n",
    "    hourly_minutes = 60 \n",
    "    number_of_times = hourly_minutes/5 \n",
    "    number_of_chestnuts = int(volume_of_solar_system/chestnut_volume)\n",
    "    folds = math.ceil(math.log2(number_of_chestnuts)) \n",
    "    number_of_days = int(folds/number_of_times)\n",
    "\n",
    "    return number_of_days"
   ]
  },
  {
   "cell_type": "code",
   "execution_count": 6,
   "id": "e8d12c09-2a57-4ed5-ac70-b4e60fa63d31",
   "metadata": {},
   "outputs": [],
   "source": [
    "import math"
   ]
  },
  {
   "cell_type": "code",
   "execution_count": 7,
   "id": "36e3c398-642a-40f5-a3f8-0d11ea3c2fcd",
   "metadata": {},
   "outputs": [
    {
     "name": "stdout",
     "output_type": "stream",
     "text": [
      "Number of hours: 22\n"
     ]
    }
   ],
   "source": [
    "chestnut_volume = 0.000000000000005\n",
    "volume_of_solar_system = 9*(10**64)\n",
    "n_hours = compute_period(chestnut_volume=chestnut_volume,\n",
    "                        volume_of_solar_system=volume_of_solar_system)\n",
    "\n",
    "print(\"Number of hours:\", n_hours)"
   ]
  },
  {
   "cell_type": "code",
   "execution_count": 8,
   "id": "08679e68-a930-4b69-bf59-35b3b1e11338",
   "metadata": {},
   "outputs": [],
   "source": [
    "def calculate_buns_occupy_time(buns_volume, \n",
    "                               place_volume):\n",
    "\n",
    "    number_of_doubles = math.ceil(math.log2(place_volume/buns_volume))\n",
    "    total_time_to_cover_h = number_of_doubles*5/60\n",
    "    print(f\"number of doubles: {number_of_doubles}\")\n",
    "    print(f\"total hours to cover: {total_time_to_cover_h}\")\n",
    "\n",
    "    return number_of_doubles, total_time_to_cover_h"
   ]
  },
  {
   "cell_type": "code",
   "execution_count": 9,
   "id": "7ee28846-dbca-479b-819c-f577cfe97ebc",
   "metadata": {},
   "outputs": [
    {
     "name": "stdout",
     "output_type": "stream",
     "text": [
      "number of doubles: 33\n",
      "total hours to cover: 2.75\n"
     ]
    },
    {
     "data": {
      "text/plain": [
       "(33, 2.75)"
      ]
     },
     "execution_count": 9,
     "metadata": {},
     "output_type": "execute_result"
    }
   ],
   "source": [
    "tokyo_dome_volume_m3 = 1240000\n",
    "bun_volume_m3 = 250*10**(-6)\n",
    "calculate_buns_occupy_time(buns_volume=bun_volume_m3, place_volume=tokyo_dome_volume_m3)"
   ]
  },
  {
   "cell_type": "code",
   "execution_count": null,
   "id": "ca5023b2-3234-44db-98eb-3f7e0390a252",
   "metadata": {},
   "outputs": [],
   "source": []
  }
 ],
 "metadata": {
  "kernelspec": {
   "display_name": "Python 3 (ipykernel)",
   "language": "python",
   "name": "python3"
  },
  "language_info": {
   "codemirror_mode": {
    "name": "ipython",
    "version": 3
   },
   "file_extension": ".py",
   "mimetype": "text/x-python",
   "name": "python",
   "nbconvert_exporter": "python",
   "pygments_lexer": "ipython3",
   "version": "3.10.11"
  }
 },
 "nbformat": 4,
 "nbformat_minor": 5
}
