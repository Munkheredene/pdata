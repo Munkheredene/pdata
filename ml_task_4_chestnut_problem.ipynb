{
 "cells": [
  {
   "cell_type": "code",
   "execution_count": 38,
   "id": "88a29a62-1e8f-4e2f-bde1-1b11f8f3eb5f",
   "metadata": {},
   "outputs": [],
   "source": [
    "def compute_period(chestnut_volume, \n",
    "                   volume_of_solar_system):\n",
    "    daily_minutes=24*60\n",
    "    number_of_times=daily_minutes/5\n",
    "\n",
    "    number_of_chestnuts=int(volume_of_solar_system/chestnut_volume)\n",
    "    folds=math.ceil(math.log2(number_of_chestnuts))\n",
    "    number_of_days=int(folds/number_of_times)\n",
    "\n",
    "    return number_of_days"
   ]
  },
  {
   "cell_type": "code",
   "execution_count": 6,
   "id": "e8d12c09-2a57-4ed5-ac70-b4e60fa63d31",
   "metadata": {},
   "outputs": [],
   "source": [
    "import math"
   ]
  },
  {
   "cell_type": "code",
   "execution_count": 41,
   "id": "36e3c398-642a-40f5-a3f8-0d11ea3c2fcd",
   "metadata": {},
   "outputs": [
    {
     "name": "stdout",
     "output_type": "stream",
     "text": [
      "Number of days: 0\n"
     ]
    }
   ],
   "source": [
    "chestnut_volume=0.0000000000000005\n",
    "volume_of_solar_system=90000\n",
    "n_days=compute_period(chestnut_volume=chestnut_volume,\n",
    "                      volume_of_solar_system=volume_of_solar_system)\n",
    "print(\"Number of days:\", n_days)"
   ]
  },
  {
   "cell_type": "code",
   "execution_count": null,
   "id": "08679e68-a930-4b69-bf59-35b3b1e11338",
   "metadata": {},
   "outputs": [],
   "source": []
  }
 ],
 "metadata": {
  "kernelspec": {
   "display_name": "Python 3 (ipykernel)",
   "language": "python",
   "name": "python3"
  },
  "language_info": {
   "codemirror_mode": {
    "name": "ipython",
    "version": 3
   },
   "file_extension": ".py",
   "mimetype": "text/x-python",
   "name": "python",
   "nbconvert_exporter": "python",
   "pygments_lexer": "ipython3",
   "version": "3.10.11"
  }
 },
 "nbformat": 4,
 "nbformat_minor": 5
}
