{
 "cells": [
  {
   "cell_type": "markdown",
   "id": "e2bc247d-80db-45cb-ad1e-2489b2178cd0",
   "metadata": {},
   "source": [
    "Problem 1 Linear function"
   ]
  },
  {
   "cell_type": "code",
   "execution_count": 1,
   "id": "ba4f2301-c055-4c97-ad81-cbdf16c019f7",
   "metadata": {},
   "outputs": [],
   "source": [
    "import numpy as np"
   ]
  },
  {
   "cell_type": "code",
   "execution_count": null,
   "id": "5b17fdd6-7d8c-4bf4-93c1-396910629b39",
   "metadata": {},
   "outputs": [],
   "source": []
  }
 ],
 "metadata": {
  "kernelspec": {
   "display_name": "Python 3 (ipykernel)",
   "language": "python",
   "name": "python3"
  },
  "language_info": {
   "codemirror_mode": {
    "name": "ipython",
    "version": 3
   },
   "file_extension": ".py",
   "mimetype": "text/x-python",
   "name": "python",
   "nbconvert_exporter": "python",
   "pygments_lexer": "ipython3",
   "version": "3.10.11"
  }
 },
 "nbformat": 4,
 "nbformat_minor": 5
}
