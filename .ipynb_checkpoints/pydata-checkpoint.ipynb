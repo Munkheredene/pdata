{
 "cells": [
  {
   "cell_type": "code",
   "execution_count": 1,
   "id": "bea51a0a-23d4-48f7-b61c-885c21f2d976",
   "metadata": {},
   "outputs": [
    {
     "data": {
      "text/plain": [
       "6"
      ]
     },
     "execution_count": 1,
     "metadata": {},
     "output_type": "execute_result"
    }
   ],
   "source": [
    "3+3"
   ]
  },
  {
   "cell_type": "code",
   "execution_count": null,
   "id": "7659f5bd-cde4-4f5b-8497-46386a789878",
   "metadata": {},
   "outputs": [],
   "source": []
  },
  {
   "cell_type": "code",
   "execution_count": 2,
   "id": "93bbcf86-67a7-4e70-8197-a1bd01ea8f24",
   "metadata": {},
   "outputs": [],
   "source": [
    "import numpy"
   ]
  },
  {
   "cell_type": "code",
   "execution_count": 3,
   "id": "4f507f0d-c504-4478-928b-af8d2cbdf405",
   "metadata": {},
   "outputs": [
    {
     "name": "stdout",
     "output_type": "stream",
     "text": [
      "Requirement already satisfied: numpy in c:\\users\\munkherdene\\appdata\\local\\programs\\python\\python310\\lib\\site-packages (1.26.4)\n"
     ]
    }
   ],
   "source": [
    "!pip install numpy"
   ]
  },
  {
   "cell_type": "code",
   "execution_count": 4,
   "id": "e1e44644-141f-4f41-b913-46071726f76d",
   "metadata": {},
   "outputs": [
    {
     "ename": "SyntaxError",
     "evalue": "expected ':' (1153231798.py, line 1)",
     "output_type": "error",
     "traceback": [
      "\u001b[1;36m  Cell \u001b[1;32mIn[4], line 1\u001b[1;36m\u001b[0m\n\u001b[1;33m    def add(n, y)\u001b[0m\n\u001b[1;37m                 ^\u001b[0m\n\u001b[1;31mSyntaxError\u001b[0m\u001b[1;31m:\u001b[0m expected ':'\n"
     ]
    }
   ],
   "source": [
    "def add(n, y)\n",
    "  if n == 0\n",
    "    return n\n",
    "  end\n",
    "  n + y\n",
    "end\n",
    "puts add(0, 3)"
   ]
  },
  {
   "cell_type": "code",
   "execution_count": 5,
   "id": "2fc8296e-4d8b-478b-b77a-ee6edd3b2510",
   "metadata": {},
   "outputs": [
    {
     "name": "stdout",
     "output_type": "stream",
     "text": [
      "750\n"
     ]
    }
   ],
   "source": [
    "\n",
    "\t\n",
    "\n",
    "print(250 + 100 + 400)"
   ]
  },
  {
   "cell_type": "code",
   "execution_count": 6,
   "id": "cfc9d76d-345b-4a53-a816-9bcc3e368cab",
   "metadata": {},
   "outputs": [
    {
     "name": "stdout",
     "output_type": "stream",
     "text": [
      "12.5\n"
     ]
    }
   ],
   "source": [
    "\n",
    "\t\n",
    "\n",
    "print(50/4)"
   ]
  },
  {
   "cell_type": "code",
   "execution_count": 7,
   "id": "fe333b35-7a81-4dec-b213-778e3de38f19",
   "metadata": {},
   "outputs": [
    {
     "name": "stdout",
     "output_type": "stream",
     "text": [
      "2\n"
     ]
    }
   ],
   "source": [
    "print(50%3)"
   ]
  },
  {
   "cell_type": "code",
   "execution_count": 8,
   "id": "0ef0b492-29c4-4430-ac70-0e33113902ce",
   "metadata": {},
   "outputs": [
    {
     "ename": "ZeroDivisionError",
     "evalue": "division by zero",
     "output_type": "error",
     "traceback": [
      "\u001b[1;31m---------------------------------------------------------------------------\u001b[0m",
      "\u001b[1;31mZeroDivisionError\u001b[0m                         Traceback (most recent call last)",
      "Cell \u001b[1;32mIn[8], line 1\u001b[0m\n\u001b[1;32m----> 1\u001b[0m \u001b[38;5;28mprint\u001b[39m(\u001b[38;5;241;43m2\u001b[39;49m\u001b[38;5;241;43m/\u001b[39;49m\u001b[38;5;241;43m0\u001b[39;49m)\n",
      "\u001b[1;31mZeroDivisionError\u001b[0m: division by zero"
     ]
    }
   ],
   "source": [
    "print(2/0)"
   ]
  },
  {
   "cell_type": "code",
   "execution_count": 9,
   "id": "e1a354ba-a731-47d2-b4de-e4dd4bbd6ca7",
   "metadata": {},
   "outputs": [
    {
     "name": "stdout",
     "output_type": "stream",
     "text": [
      "8\n"
     ]
    }
   ],
   "source": [
    "print(2**3)"
   ]
  },
  {
   "cell_type": "code",
   "execution_count": 10,
   "id": "73e5934c-d2f0-482c-8886-311670e2e640",
   "metadata": {},
   "outputs": [
    {
     "name": "stdout",
     "output_type": "stream",
     "text": [
      "1.4142135623730951\n"
     ]
    }
   ],
   "source": [
    "print(2**0.5)"
   ]
  },
  {
   "cell_type": "code",
   "execution_count": 11,
   "id": "ea053f6c-5fcc-4f37-b488-2e932ac85ed5",
   "metadata": {},
   "outputs": [
    {
     "name": "stdout",
     "output_type": "stream",
     "text": [
      "<class 'int'>\n",
      "<class 'int'>\n",
      "<class 'float'>\n"
     ]
    }
   ],
   "source": [
    "print(type(50))\n",
    "print(type(4))\n",
    "print(type(50/4))"
   ]
  },
  {
   "cell_type": "code",
   "execution_count": 12,
   "id": "bba8f261-f5c6-4869-a7a6-3ec292ce549e",
   "metadata": {},
   "outputs": [
    {
     "name": "stdout",
     "output_type": "stream",
     "text": [
      "2.0\n",
      "<class 'float'>\n"
     ]
    }
   ],
   "source": [
    "print(float(2))\n",
    "print(type(float(2)))"
   ]
  },
  {
   "cell_type": "code",
   "execution_count": 13,
   "id": "6c1a92dd-b50c-44ee-bf96-419cd4cef959",
   "metadata": {},
   "outputs": [
    {
     "name": "stdout",
     "output_type": "stream",
     "text": [
      "3\n"
     ]
    }
   ],
   "source": [
    "print(int(3.7))"
   ]
  },
  {
   "cell_type": "code",
   "execution_count": 14,
   "id": "52993b76-da68-49e6-9b08-a4c56527eb7d",
   "metadata": {},
   "outputs": [
    {
     "ename": "NameError",
     "evalue": "name 'z' is not defined",
     "output_type": "error",
     "traceback": [
      "\u001b[1;31m---------------------------------------------------------------------------\u001b[0m",
      "\u001b[1;31mNameError\u001b[0m                                 Traceback (most recent call last)",
      "Cell \u001b[1;32mIn[14], line 1\u001b[0m\n\u001b[1;32m----> 1\u001b[0m \u001b[38;5;28mprint\u001b[39m(\u001b[43mz\u001b[49m)\n\u001b[0;32m      2\u001b[0m z \u001b[38;5;241m=\u001b[39m \u001b[38;5;241m100\u001b[39m \u001b[38;5;241m-\u001b[39m \u001b[38;5;241m50\u001b[39m\n",
      "\u001b[1;31mNameError\u001b[0m: name 'z' is not defined"
     ]
    }
   ],
   "source": [
    "print(z)\n",
    "z = 100 - 50"
   ]
  },
  {
   "cell_type": "code",
   "execution_count": 15,
   "id": "23c71fc1-7923-438c-9305-5389e04aad56",
   "metadata": {},
   "outputs": [
    {
     "name": "stdout",
     "output_type": "stream",
     "text": [
      "50\n"
     ]
    }
   ],
   "source": [
    "z = 100 - 50\n",
    "print(z)"
   ]
  },
  {
   "cell_type": "code",
   "execution_count": 16,
   "id": "c177cc2f-8047-46ca-aa21-81a092e4d732",
   "metadata": {},
   "outputs": [
    {
     "name": "stdout",
     "output_type": "stream",
     "text": [
      "6\n"
     ]
    }
   ],
   "source": [
    "x = 1\n",
    "x += 5\n",
    "print(x)"
   ]
  },
  {
   "cell_type": "code",
   "execution_count": 17,
   "id": "f220c05b-6509-4b47-baf7-795a8676a681",
   "metadata": {},
   "outputs": [
    {
     "name": "stdout",
     "output_type": "stream",
     "text": [
      "Alice\n"
     ]
    }
   ],
   "source": [
    "student_name = \"Alice\"\n",
    "print(student_name)"
   ]
  },
  {
   "cell_type": "code",
   "execution_count": 18,
   "id": "1088ce44-836f-438d-83b8-a2c78822f6a6",
   "metadata": {},
   "outputs": [
    {
     "name": "stdout",
     "output_type": "stream",
     "text": [
      "my name isAlice!!\n"
     ]
    }
   ],
   "source": [
    "student_name = \"Alice\"\n",
    "print(\"my name is\" + student_name + \"!!\")"
   ]
  },
  {
   "cell_type": "code",
   "execution_count": 19,
   "id": "d8032a55-eb76-42cf-aa78-edc4d32e6fe1",
   "metadata": {},
   "outputs": [
    {
     "name": "stdout",
     "output_type": "stream",
     "text": [
      "I am 19 years old and my name is Alice.\n"
     ]
    }
   ],
   "source": [
    "student_name = \"Alice\"\n",
    "student_age = 19\n",
    "print(\"I am {1} years old and my name is {0}.\".format(student_name, student_age))"
   ]
  },
  {
   "cell_type": "code",
   "execution_count": 20,
   "id": "ea9c3372-d71b-4b89-84c3-2a31c1d5b7f3",
   "metadata": {},
   "outputs": [
    {
     "name": "stdout",
     "output_type": "stream",
     "text": [
      "Today's lowest temperature is 3.5 and tomorrow's lowest temperature is -5.3.\n"
     ]
    }
   ],
   "source": [
    "today_temperature = 3.53\n",
    "tomorrow_temperature = -5.27\n",
    "print(\"Today's lowest temperature is {:.1f} and tomorrow's lowest temperature is {:.1f}.\".format(today_temperature, tomorrow_temperature))"
   ]
  },
  {
   "cell_type": "code",
   "execution_count": 21,
   "id": "553162d5-5192-4a15-863f-085a3f42555d",
   "metadata": {},
   "outputs": [
    {
     "name": "stdout",
     "output_type": "stream",
     "text": [
      "Today's lowest temperature is 3.53 and tomorrow's lowest temperature is -5.3.\n"
     ]
    }
   ],
   "source": [
    "today_temperature = 3.53\n",
    "tomorrow_temperature = -5.27\n",
    "print(\"Today's lowest temperature is {:.2f} and tomorrow's lowest temperature is {:.1f}.\".format(today_temperature, tomorrow_temperature))"
   ]
  },
  {
   "cell_type": "code",
   "execution_count": 22,
   "id": "a8f27d49-2051-4421-b425-9cb270345ac3",
   "metadata": {},
   "outputs": [
    {
     "name": "stdout",
     "output_type": "stream",
     "text": [
      "Tomorrow's lowest temperature is -5.3 and today's lowest temperature is +3.5.\n"
     ]
    }
   ],
   "source": [
    "today_temperature = 3.53\n",
    "tomorrow_temperature = -5.27\n",
    "print(\"Tomorrow's lowest temperature is {1:+.1f} and today's lowest temperature is {0:+.1f}.\".format(today_temperature, tomorrow_temperature))"
   ]
  },
  {
   "cell_type": "code",
   "execution_count": 23,
   "id": "4679a22e-5315-4659-9695-c255df5abe7f",
   "metadata": {},
   "outputs": [
    {
     "name": "stdout",
     "output_type": "stream",
     "text": [
      "Python\n"
     ]
    }
   ],
   "source": [
    "print(\"python\".capitalize())"
   ]
  },
  {
   "cell_type": "code",
   "execution_count": 24,
   "id": "fcaeaf50-751a-4dbb-9c86-c3cfeacbc033",
   "metadata": {},
   "outputs": [
    {
     "name": "stdout",
     "output_type": "stream",
     "text": [
      "Student age 19\n"
     ]
    }
   ],
   "source": [
    "student_age = 19\n",
    "print(\"Student age\", student_age)\n"
   ]
  },
  {
   "cell_type": "code",
   "execution_count": 25,
   "id": "fa064d26-a1b0-48b6-953a-eb53a0262ec4",
   "metadata": {},
   "outputs": [
    {
     "name": "stdout",
     "output_type": "stream",
     "text": [
      "Student age:19\n"
     ]
    }
   ],
   "source": [
    "print(\"Student age\", student_age, sep=\":\")"
   ]
  },
  {
   "cell_type": "code",
   "execution_count": 26,
   "id": "23bc2d30-cc1a-494f-83ce-eb79060643d0",
   "metadata": {},
   "outputs": [
    {
     "name": "stdout",
     "output_type": "stream",
     "text": [
      "Student age19\n",
      "Student age19\n",
      "Student age19\n"
     ]
    }
   ],
   "source": [
    "print(\"Student age{}\".format(student_age))\n",
    "print(\"Student age\", student_age, sep=\"\")\n",
    "print(\"Student age\"+str(student_age))"
   ]
  },
  {
   "cell_type": "code",
   "execution_count": 27,
   "id": "618b3c08-d16d-4709-ad01-5923e33b7ae5",
   "metadata": {},
   "outputs": [
    {
     "name": "stdout",
     "output_type": "stream",
     "text": [
      "Student age19\n",
      "Student age:19\n",
      "Student age19\n"
     ]
    }
   ],
   "source": [
    "print(\"Student age{}\".format(student_age))\n",
    "print(\"Student age\", student_age, sep=\":\")\n",
    "print(\"Student age\"+str(student_age))"
   ]
  },
  {
   "cell_type": "code",
   "execution_count": 29,
   "id": "2ed4408e-a50e-466d-9d1c-d023a4da41f8",
   "metadata": {},
   "outputs": [
    {
     "data": {
      "text/plain": [
       "\"b'Zoot!'\""
      ]
     },
     "execution_count": 29,
     "metadata": {},
     "output_type": "execute_result"
    }
   ],
   "source": [
    "str(b'Zoot!')\n"
   ]
  },
  {
   "cell_type": "code",
   "execution_count": 30,
   "id": "f89dd4db-e654-4b23-a673-93a7400a7442",
   "metadata": {},
   "outputs": [
    {
     "ename": "NameError",
     "evalue": "name 'ham' is not defined",
     "output_type": "error",
     "traceback": [
      "\u001b[1;31m---------------------------------------------------------------------------\u001b[0m",
      "\u001b[1;31mNameError\u001b[0m                                 Traceback (most recent call last)",
      "Cell \u001b[1;32mIn[30], line 1\u001b[0m\n\u001b[1;32m----> 1\u001b[0m \u001b[43mham\u001b[49m[\u001b[38;5;241m1\u001b[39m:\u001b[38;5;241m9\u001b[39m], ham[\u001b[38;5;241m1\u001b[39m:\u001b[38;5;241m9\u001b[39m:\u001b[38;5;241m3\u001b[39m], ham[:\u001b[38;5;241m9\u001b[39m:\u001b[38;5;241m3\u001b[39m], ham[\u001b[38;5;241m1\u001b[39m::\u001b[38;5;241m3\u001b[39m], ham[\u001b[38;5;241m1\u001b[39m:\u001b[38;5;241m9\u001b[39m:]\n\u001b[0;32m      2\u001b[0m ham[lower:upper], ham[lower:upper:], ham[lower::step]\n\u001b[0;32m      3\u001b[0m ham[lower\u001b[38;5;241m+\u001b[39moffset : upper\u001b[38;5;241m+\u001b[39moffset]\n",
      "\u001b[1;31mNameError\u001b[0m: name 'ham' is not defined"
     ]
    }
   ],
   "source": [
    "ham[1:9], ham[1:9:3], ham[:9:3], ham[1::3], ham[1:9:]\n",
    "ham[lower:upper], ham[lower:upper:], ham[lower::step]\n",
    "ham[lower+offset : upper+offset]\n",
    "ham[: upper_fn(x) : step_fn(x)], ham[:: step_fn(x)]\n",
    "ham[lower + offset : upper + offset]"
   ]
  },
  {
   "cell_type": "code",
   "execution_count": 31,
   "id": "f7dd9d82-8329-4d42-9ac1-c2da6fbb6371",
   "metadata": {},
   "outputs": [],
   "source": [
    "def foo(x):\n",
    "    if x >= 0:\n",
    "        return math.sqrt(x)\n",
    "    else:\n",
    "        return None\n",
    "\n",
    "def bar(x):\n",
    "    if x < 0:\n",
    "        return None\n",
    "    return math.sqrt(x)"
   ]
  },
  {
   "cell_type": "code",
   "execution_count": 32,
   "id": "2f83667f-7b36-4397-8d8d-5d50d1ee4e53",
   "metadata": {},
   "outputs": [
    {
     "data": {
      "text/plain": [
       "10"
      ]
     },
     "execution_count": 32,
     "metadata": {},
     "output_type": "execute_result"
    }
   ],
   "source": [
    "10\n"
   ]
  },
  {
   "cell_type": "code",
   "execution_count": 33,
   "id": "67cbed7c-7192-4ad4-aa07-108aa8571ec8",
   "metadata": {},
   "outputs": [
    {
     "ename": "SyntaxError",
     "evalue": "incomplete input (3005170670.py, line 1)",
     "output_type": "error",
     "traceback": [
      "\u001b[1;36m  Cell \u001b[1;32mIn[33], line 1\u001b[1;36m\u001b[0m\n\u001b[1;33m    if foo.startswith('bar'):\u001b[0m\n\u001b[1;37m                             ^\u001b[0m\n\u001b[1;31mSyntaxError\u001b[0m\u001b[1;31m:\u001b[0m incomplete input\n"
     ]
    }
   ],
   "source": [
    "if foo.startswith('bar'):"
   ]
  },
  {
   "cell_type": "code",
   "execution_count": 34,
   "id": "6cc0b078-a034-4a19-923c-686dd583808f",
   "metadata": {},
   "outputs": [
    {
     "name": "stdout",
     "output_type": "stream",
     "text": [
      "The average temperature for each month is 6 degrees in January and 7 degrees in February!!\n"
     ]
    }
   ],
   "source": [
    "january_average_temperature = 6\n",
    "february_average_temperature = 7\n",
    "print(\"The average temperature for each month is {} degrees in January and {} degrees in February!!\".format(january_average_temperature, february_average_temperature))\n"
   ]
  },
  {
   "cell_type": "code",
   "execution_count": 35,
   "id": "14e6cd51-b5f0-4da2-87f3-2b43da32cf90",
   "metadata": {},
   "outputs": [
    {
     "name": "stdout",
     "output_type": "stream",
     "text": [
      "The average temperature for each month is 7 degrees in January and 6 degrees in February!!\n"
     ]
    }
   ],
   "source": [
    "january_average_temperature = 6\n",
    "february_average_temperature = 7\n",
    "print(\"The average temperature for each month is {1} degrees in January and {0} degrees in February!!\".format(january_average_temperature, february_average_temperature))"
   ]
  },
  {
   "cell_type": "code",
   "execution_count": 36,
   "id": "542a8190-9e96-4f98-8c3b-0d0c8fa2dd0e",
   "metadata": {},
   "outputs": [
    {
     "name": "stdout",
     "output_type": "stream",
     "text": [
      "[6, 7, 9, 15, 20, 22, 27, 26, 23, 17, 12, 7]\n",
      "<class 'list'>\n"
     ]
    }
   ],
   "source": [
    "monthly_average_temperatures = [6, 7, 9, 15, 20, 22, 27, 26, 23, 17, 12, 7]\n",
    "print(monthly_average_temperatures)\n",
    "print(type(monthly_average_temperatures))"
   ]
  },
  {
   "cell_type": "code",
   "execution_count": null,
   "id": "07ccc290-c198-4923-8bd4-7b85e558246f",
   "metadata": {},
   "outputs": [],
   "source": []
  },
  {
   "cell_type": "code",
   "execution_count": 37,
   "id": "af1f375a-9b1a-4189-88a8-217bfbb6b669",
   "metadata": {},
   "outputs": [
    {
     "name": "stdout",
     "output_type": "stream",
     "text": [
      "The average temperature for each month is 6 degrees in January and 7 degrees in February!!\n"
     ]
    }
   ],
   "source": [
    "monthly_average_temperatures = [6, 7, 9, 15, 20, 22, 27, 26, 23, 17, 12, 7]\n",
    "print(\"The average temperature for each month is {} degrees in January and {} degrees in February!!\".\n",
    "      format(monthly_average_temperatures[0], monthly_average_temperatures[1]))\n"
   ]
  },
  {
   "cell_type": "code",
   "execution_count": 38,
   "id": "751e1dfc-928c-4655-bf51-c9a706a72b4b",
   "metadata": {},
   "outputs": [
    {
     "name": "stdout",
     "output_type": "stream",
     "text": [
      "The average temperature for each month is 15 degrees in January and 7 degrees in February!!\n"
     ]
    }
   ],
   "source": [
    "monthly_average_temperatures = [6, 7, 9, 15, 20, 22, 27, 26, 23, 17, 12, 7]\n",
    "print(\"The average temperature for each month is {} degrees in January and {} degrees in February!!\".\n",
    "      format(monthly_average_temperatures[3], monthly_average_temperatures[1]))"
   ]
  },
  {
   "cell_type": "code",
   "execution_count": 41,
   "id": "b06ce316-c984-4096-b897-7f0abfbca2d3",
   "metadata": {},
   "outputs": [
    {
     "name": "stdout",
     "output_type": "stream",
     "text": [
      "Alice is under 20 years old.\n"
     ]
    }
   ],
   "source": [
    "student_name = \"Alice\"\n",
    "student_age = 10\n",
    "if student_age < 20:\n",
    "  print(\"{} is under 20 years old.\".format(student_name))\n",
    "else:\n",
    "  print(\"{} is over 20 years old.\".format(student_name))"
   ]
  },
  {
   "cell_type": "code",
   "execution_count": 43,
   "id": "dfce12dc-b195-49b9-b9a2-f5a10720ba2f",
   "metadata": {},
   "outputs": [
    {
     "name": "stdout",
     "output_type": "stream",
     "text": [
      "Alice is under 20 years old.\n"
     ]
    }
   ],
   "source": [
    "student_name = \"Alice\"\n",
    "student_age = 10\n",
    "if student_age < 20:\n",
    "  print(\"{} is under 20 years old.\".format(student_name))"
   ]
  },
  {
   "cell_type": "code",
   "execution_count": 45,
   "id": "2e34b3e7-a9f0-4746-944a-6f171e35ca57",
   "metadata": {},
   "outputs": [
    {
     "name": "stdout",
     "output_type": "stream",
     "text": [
      "Alice Is over 23 years old.\n"
     ]
    }
   ],
   "source": [
    "student_name = \"Alice\"\n",
    "student_age = 23\n",
    "if student_age < 20:\n",
    "  print(\"{} is under 20 years old.\".format(student_name))\n",
    "elif student_age == 21:\n",
    "  print(\"{} is 21 years old.\".format(student_name))\n",
    "elif student_age == 22:\n",
    "  print(\"{} is 22 years old.\".format(student_name))\n",
    "else:\n",
    "  print(\"{} Is over 23 years old.\".format(student_name))"
   ]
  },
  {
   "cell_type": "code",
   "execution_count": 46,
   "id": "dd2892fe-8238-4416-8956-43c071329858",
   "metadata": {},
   "outputs": [
    {
     "name": "stdout",
     "output_type": "stream",
     "text": [
      "Hello, Boolean!\n"
     ]
    }
   ],
   "source": [
    "if True:\n",
    "  print(\"Hello, Boolean!\")"
   ]
  },
  {
   "cell_type": "code",
   "execution_count": 47,
   "id": "4392f643-5d76-4058-bb19-f87fa93a8c03",
   "metadata": {},
   "outputs": [],
   "source": [
    "if False:\n",
    "  print(\"Hello, Boolean!\")"
   ]
  },
  {
   "cell_type": "code",
   "execution_count": 48,
   "id": "6d9228e9-6a07-424b-bd64-c60dda3797d6",
   "metadata": {},
   "outputs": [
    {
     "data": {
      "text/plain": [
       "1"
      ]
     },
     "execution_count": 48,
     "metadata": {},
     "output_type": "execute_result"
    }
   ],
   "source": [
    "1"
   ]
  },
  {
   "cell_type": "code",
   "execution_count": 49,
   "id": "de0ab5c2-2fbd-4609-a78f-c010f021d467",
   "metadata": {},
   "outputs": [
    {
     "name": "stdout",
     "output_type": "stream",
     "text": [
      "Alice is under the age of 20.\n"
     ]
    }
   ],
   "source": [
    "ADULT_AGE = 20\n",
    "\n",
    "student_name = \"Alice\"\n",
    "student_age = 19\n",
    "if student_age < ADULT_AGE:\n",
    "    print(\"{} is under the age of {}.\".format(student_name, ADULT_AGE))\n",
    "else:\n",
    "    print(\"{} is over {} years old.\".format(student_name, ADULT_AGE))"
   ]
  },
  {
   "cell_type": "code",
   "execution_count": 50,
   "id": "411ec4df-d361-4230-bd61-9bcd6f5dbcb4",
   "metadata": {},
   "outputs": [
    {
     "name": "stdout",
     "output_type": "stream",
     "text": [
      "5\n",
      "6\n",
      "7\n",
      "8\n",
      "9\n"
     ]
    }
   ],
   "source": [
    "for i in range(5, 10):\n",
    "  print(i)"
   ]
  },
  {
   "cell_type": "code",
   "execution_count": 51,
   "id": "016308da-42ac-4743-906f-88e71c2f4f3e",
   "metadata": {},
   "outputs": [
    {
     "name": "stdout",
     "output_type": "stream",
     "text": [
      "2\n",
      "3\n",
      "4\n",
      "5\n",
      "6\n",
      "7\n"
     ]
    }
   ],
   "source": [
    "for i in range(2, 8):\n",
    "  print(i)"
   ]
  },
  {
   "cell_type": "code",
   "execution_count": 52,
   "id": "4b3aefbb-e389-48ff-ba6f-520097b3937c",
   "metadata": {},
   "outputs": [
    {
     "name": "stdout",
     "output_type": "stream",
     "text": [
      "0\n",
      "1\n",
      "2\n",
      "3\n",
      "4\n",
      "5\n",
      "6\n",
      "7\n",
      "8\n",
      "9\n"
     ]
    }
   ],
   "source": [
    "for i in range(10):\n",
    "  print(i)"
   ]
  },
  {
   "cell_type": "code",
   "execution_count": 54,
   "id": "5810c068-68e8-4578-91d7-5cd76b17b209",
   "metadata": {},
   "outputs": [
    {
     "ename": "SyntaxError",
     "evalue": "incomplete input (3954099354.py, line 4)",
     "output_type": "error",
     "traceback": [
      "\u001b[1;36m  Cell \u001b[1;32mIn[54], line 4\u001b[1;36m\u001b[0m\n\u001b[1;33m    print(list(range(10))\u001b[0m\n\u001b[1;37m                         ^\u001b[0m\n\u001b[1;31mSyntaxError\u001b[0m\u001b[1;31m:\u001b[0m incomplete input\n"
     ]
    }
   ],
   "source": [
    "for i in range(10):\n",
    "  print(i)\n",
    "print(range(10))\n",
    "print(list(range(10))"
   ]
  },
  {
   "cell_type": "code",
   "execution_count": 55,
   "id": "846e10fc-75f6-4981-b0ab-3e06fd4d638a",
   "metadata": {},
   "outputs": [
    {
     "ename": "SyntaxError",
     "evalue": "incomplete input (3954099354.py, line 4)",
     "output_type": "error",
     "traceback": [
      "\u001b[1;36m  Cell \u001b[1;32mIn[55], line 4\u001b[1;36m\u001b[0m\n\u001b[1;33m    print(list(range(10))\u001b[0m\n\u001b[1;37m                         ^\u001b[0m\n\u001b[1;31mSyntaxError\u001b[0m\u001b[1;31m:\u001b[0m incomplete input\n"
     ]
    }
   ],
   "source": [
    "for i in range(10):\n",
    "  print(i)\n",
    "print(range(10))\n",
    "print(list(range(10))"
   ]
  },
  {
   "cell_type": "code",
   "execution_count": 56,
   "id": "792ef40e-793a-446a-b162-8a596e0adedc",
   "metadata": {},
   "outputs": [
    {
     "name": "stdout",
     "output_type": "stream",
     "text": [
      "1 The average monthly temperature is 6 degrees!!\n",
      "2 The average monthly temperature is 7 degrees!!\n",
      "3 The average monthly temperature is 9 degrees!!\n",
      "4 The average monthly temperature is 15 degrees!!\n",
      "5 The average monthly temperature is 20 degrees!!\n",
      "6 The average monthly temperature is 22 degrees!!\n",
      "7 The average monthly temperature is 27 degrees!!\n",
      "8 The average monthly temperature is 26 degrees!!\n",
      "9 The average monthly temperature is 23 degrees!!\n",
      "10 The average monthly temperature is 17 degrees!!\n",
      "11 The average monthly temperature is 12 degrees!!\n",
      "12 The average monthly temperature is 7 degrees!!\n"
     ]
    }
   ],
   "source": [
    "monthly_average_temperatures = [6, 7, 9, 15, 20, 22, 27, 26, 23, 17, 12, 7]\n",
    "for i in range(len(monthly_average_temperatures)):\n",
    "  print(\"{} The average monthly temperature is {} degrees!!\".format(i+1, monthly_average_temperatures[i]))"
   ]
  },
  {
   "cell_type": "code",
   "execution_count": 57,
   "id": "95b68454-b398-436b-a61d-9dff74ecec9b",
   "metadata": {},
   "outputs": [
    {
     "name": "stdout",
     "output_type": "stream",
     "text": [
      "1 The average monthly temperature is 6 degrees!!\n",
      "2 The average monthly temperature is 7 degrees!!\n",
      "3 The average monthly temperature is 9 degrees!!\n",
      "4 The average monthly temperature is 15 degrees!!\n",
      "5 The average monthly temperature is 20 degrees!!\n",
      "6 The average monthly temperature is 22 degrees!!\n",
      "7 The average monthly temperature is 27 degrees!!\n",
      "8 The average monthly temperature is 26 degrees!!\n",
      "9 The average monthly temperature is 23 degrees!!\n",
      "10 The average monthly temperature is 17 degrees!!\n",
      "11 The average monthly temperature is 12 degrees!!\n",
      "12 The average monthly temperature is 7 degrees!!\n"
     ]
    }
   ],
   "source": [
    "monthly_average_temperatures = [6, 7, 9, 15, 20, 22, 27, 26, 23, 17, 12, 7]\n",
    "for i, temperature in enumerate(monthly_average_temperatures):\n",
    "  print(\"{} The average monthly temperature is {} degrees!!\".format(i+1, temperature))"
   ]
  },
  {
   "cell_type": "code",
   "execution_count": 58,
   "id": "af91dc04-ee95-4be9-bc2f-2d61b69e4579",
   "metadata": {},
   "outputs": [
    {
     "name": "stdout",
     "output_type": "stream",
     "text": [
      "1 The average monthly temperature is 6 degrees!!\n",
      "2 The average monthly temperature is 7 degrees!!\n",
      "3 The average monthly temperature is 9 degrees!!\n",
      "4 The average monthly temperature is 15 degrees!!\n",
      "5 The average monthly temperature is 20 degrees!!\n",
      "6 The average monthly temperature is 22 degrees!!\n",
      "7 The average monthly temperature is 27 degrees!!\n",
      "8 The average monthly temperature is 26 degrees!!\n",
      "9 The average monthly temperature is 23 degrees!!\n",
      "10 The average monthly temperature is 17 degrees!!\n",
      "11 The average monthly temperature is 12 degrees!!\n",
      "12 The average monthly temperature is 7 degrees!!\n"
     ]
    }
   ],
   "source": [
    "MONTH_NUMBERS = list(range(1,13))\n",
    "monthly_average_temperatures = [6, 7, 9, 15, 20, 22, 27, 26, 23, 17, 12, 7]\n",
    "for month_number, temperature in zip(MONTH_NUMBERS, monthly_average_temperatures):\n",
    "  print(\"{} The average monthly temperature is {} degrees!!\".format(month_number, temperature))"
   ]
  },
  {
   "cell_type": "code",
   "execution_count": 59,
   "id": "dcedaea9-0618-4b89-b736-2d177ed1b3a8",
   "metadata": {},
   "outputs": [
    {
     "name": "stdout",
     "output_type": "stream",
     "text": [
      "0\n",
      "3\n",
      "6\n",
      "9\n"
     ]
    }
   ],
   "source": [
    "num = 0\n",
    "while num < 10:\n",
    "  print(num)\n",
    "  num += 3"
   ]
  },
  {
   "cell_type": "code",
   "execution_count": 60,
   "id": "912eda9b-6b69-4b91-8ffa-fa4bcc4eace2",
   "metadata": {},
   "outputs": [
    {
     "name": "stdout",
     "output_type": "stream",
     "text": [
      "0\n",
      "3\n",
      "6\n",
      "9\n"
     ]
    }
   ],
   "source": [
    "num = 0\n",
    "while True:\n",
    "  print(num)\n",
    "  num += 3\n",
    "  if num >= 10:\n",
    "    break"
   ]
  },
  {
   "cell_type": "code",
   "execution_count": 61,
   "id": "8e6d11e4-29b6-41a5-b64e-f58d67c91902",
   "metadata": {},
   "outputs": [
    {
     "ename": "NameError",
     "evalue": "name 'users' is not defined",
     "output_type": "error",
     "traceback": [
      "\u001b[1;31m---------------------------------------------------------------------------\u001b[0m",
      "\u001b[1;31mNameError\u001b[0m                                 Traceback (most recent call last)",
      "Cell \u001b[1;32mIn[61], line 2\u001b[0m\n\u001b[0;32m      1\u001b[0m active_users \u001b[38;5;241m=\u001b[39m {}\n\u001b[1;32m----> 2\u001b[0m \u001b[38;5;28;01mfor\u001b[39;00m user, status \u001b[38;5;129;01min\u001b[39;00m \u001b[43musers\u001b[49m\u001b[38;5;241m.\u001b[39mitems():\n\u001b[0;32m      3\u001b[0m     \u001b[38;5;28;01mif\u001b[39;00m status \u001b[38;5;241m==\u001b[39m \u001b[38;5;124m'\u001b[39m\u001b[38;5;124mactive\u001b[39m\u001b[38;5;124m'\u001b[39m:\n\u001b[0;32m      4\u001b[0m         active_users[user] \u001b[38;5;241m=\u001b[39m status\n",
      "\u001b[1;31mNameError\u001b[0m: name 'users' is not defined"
     ]
    }
   ],
   "source": [
    "active_users = {}\n",
    "for user, status in users.items():\n",
    "    if status == 'active':\n",
    "        active_users[user] = status"
   ]
  },
  {
   "cell_type": "code",
   "execution_count": 62,
   "id": "4e3d8fe0-6429-473e-bba9-dd2b0fd720ab",
   "metadata": {},
   "outputs": [],
   "source": [
    "# Create a sample collection\n",
    "users = {'Hans': 'active', 'Éléonore': 'inactive', '景太郎': 'active'}\n",
    "\n",
    "# Strategy:  Iterate over a copy\n",
    "for user, status in users.copy().items():\n",
    "    if status == 'inactive':\n",
    "        del users[user]\n",
    "\n",
    "# Strategy:  Create a new collection\n",
    "active_users = {}\n",
    "for user, status in users.items():\n",
    "    if status == 'active':\n",
    "        active_users[user] = status"
   ]
  },
  {
   "cell_type": "code",
   "execution_count": 63,
   "id": "911f817d-fcbe-44c0-8c49-0440b20a7113",
   "metadata": {},
   "outputs": [
    {
     "name": "stdout",
     "output_type": "stream",
     "text": [
      "Found an even number 2\n",
      "Found an odd number 3\n",
      "Found an even number 4\n",
      "Found an odd number 5\n",
      "Found an even number 6\n",
      "Found an odd number 7\n",
      "Found an even number 8\n",
      "Found an odd number 9\n"
     ]
    }
   ],
   "source": [
    "for num in range(2, 10):\n",
    "\n",
    "    if num % 2 == 0:\n",
    "\n",
    "        print(\"Found an even number\", num)\n",
    "\n",
    "        continue\n",
    "\n",
    "    print(\"Found an odd number\", num)"
   ]
  },
  {
   "cell_type": "code",
   "execution_count": 64,
   "id": "cd6b6289-da95-4096-86e7-ee1a2c2ddd87",
   "metadata": {},
   "outputs": [],
   "source": [
    "def print_hello_world():\n",
    "  print(\"Hello, World!\")"
   ]
  },
  {
   "cell_type": "code",
   "execution_count": 65,
   "id": "c97b8e80-d272-4df3-9905-34723125cde8",
   "metadata": {},
   "outputs": [
    {
     "name": "stdout",
     "output_type": "stream",
     "text": [
      "Hello, Python!\n",
      "Hello, Python?\n"
     ]
    }
   ],
   "source": [
    "def print_hello_something(something, end = \"!\"):\n",
    "  print(\"Hello, {}{}\".format(something, end))\n",
    "\n",
    "print_hello_something(\"Python\")\n",
    "print_hello_something(\"Python\", end = \"?\")"
   ]
  },
  {
   "cell_type": "code",
   "execution_count": 66,
   "id": "c7e89414-ec5f-464a-8f94-afc1ab52e6fa",
   "metadata": {},
   "outputs": [
    {
     "name": "stdout",
     "output_type": "stream",
     "text": [
      "Hello, Python?\n"
     ]
    }
   ],
   "source": [
    "def print_hello_something(something, end):\n",
    "  print(\"Hello, {}{}\".format(something, end))\n",
    "\n",
    "print_hello_something(\"Python\", \"?\")"
   ]
  },
  {
   "cell_type": "code",
   "execution_count": 67,
   "id": "fb3eead3-caa3-4f45-a6d6-00cf4b47c579",
   "metadata": {},
   "outputs": [
    {
     "name": "stdout",
     "output_type": "stream",
     "text": [
      "Hello, Python!!\n"
     ]
    }
   ],
   "source": [
    "def hello_something(something, end = \"!\"):\n",
    "  return \"Hello, {}{}\".format(something, end)\n",
    "\n",
    "print(hello_something(\"Python\", end = \"!!\"))"
   ]
  },
  {
   "cell_type": "code",
   "execution_count": 68,
   "id": "a9120795-3a81-4315-89df-ce8eb95bd7fa",
   "metadata": {},
   "outputs": [
    {
     "ename": "SyntaxError",
     "evalue": "incomplete input (2520144120.py, line 7)",
     "output_type": "error",
     "traceback": [
      "\u001b[1;36m  Cell \u001b[1;32mIn[68], line 7\u001b[1;36m\u001b[0m\n\u001b[1;33m    print(sample_function(-20, -10)\u001b[0m\n\u001b[1;37m                                   ^\u001b[0m\n\u001b[1;31mSyntaxError\u001b[0m\u001b[1;31m:\u001b[0m incomplete input\n"
     ]
    }
   ],
   "source": [
    "def sample_function(x, y):\n",
    "  answer = (x+y) * 2\n",
    "  return answer\n",
    "\n",
    "print(sample_function(3, 5))\n",
    "print(sample_function(10, 3))\n",
    "print(sample_function(-20, -10)"
   ]
  },
  {
   "cell_type": "code",
   "execution_count": 69,
   "id": "67595693-f244-4ebc-8e2c-00a63ba80026",
   "metadata": {},
   "outputs": [
    {
     "name": "stdout",
     "output_type": "stream",
     "text": [
      "16\n"
     ]
    },
    {
     "ename": "NameError",
     "evalue": "name 'answer2' is not defined",
     "output_type": "error",
     "traceback": [
      "\u001b[1;31m---------------------------------------------------------------------------\u001b[0m",
      "\u001b[1;31mNameError\u001b[0m                                 Traceback (most recent call last)",
      "Cell \u001b[1;32mIn[69], line 7\u001b[0m\n\u001b[0;32m      4\u001b[0m   \u001b[38;5;28;01mreturn\u001b[39;00m answer1\n\u001b[0;32m      6\u001b[0m \u001b[38;5;28mprint\u001b[39m(sample_function2(\u001b[38;5;241m3\u001b[39m, \u001b[38;5;241m5\u001b[39m))\n\u001b[1;32m----> 7\u001b[0m \u001b[38;5;28mprint\u001b[39m(\u001b[43manswer2\u001b[49m) \u001b[38;5;66;03m# NameError\u001b[39;00m\n",
      "\u001b[1;31mNameError\u001b[0m: name 'answer2' is not defined"
     ]
    }
   ],
   "source": [
    "def sample_function2(x, y):\n",
    "  answer1 = (x+y) * 2\n",
    "  answer2 = answer1 + 10\n",
    "  return answer1\n",
    "\n",
    "print(sample_function2(3, 5))\n",
    "print(answer2) # NameError"
   ]
  },
  {
   "cell_type": "code",
   "execution_count": 70,
   "id": "646f054c-25a7-4dc4-9252-e355d25f1675",
   "metadata": {},
   "outputs": [
    {
     "name": "stdout",
     "output_type": "stream",
     "text": [
      "16\n",
      "26\n"
     ]
    }
   ],
   "source": [
    "def sample_function3(x, y):\n",
    "  answer1 = (x+y) * 2\n",
    "  answer2 = answer1 + 10\n",
    "  return answer1, answer2\n",
    "\n",
    "answer1, answer2 = sample_function3(3, 5)\n",
    "print(answer1)\n",
    "print(answer2)"
   ]
  },
  {
   "cell_type": "code",
   "execution_count": 71,
   "id": "f8f4294a-3d44-4537-8d3a-d3ed24f9bc57",
   "metadata": {},
   "outputs": [
    {
     "name": "stdout",
     "output_type": "stream",
     "text": [
      "Alice is under the age of 20.\n"
     ]
    }
   ],
   "source": [
    "ADULT_AGE = 20\n",
    "\n",
    "student_name = \"Alice\"\n",
    "student_age = 19\n",
    "if student_age < ADULT_AGE:\n",
    "    print(\"{} is under the age of {}.\".format(student_name, ADULT_AGE))\n",
    "else:\n",
    "    print(\"{} is over {} years old.\".format(student_name, ADULT_AGE))"
   ]
  },
  {
   "cell_type": "code",
   "execution_count": 72,
   "id": "c505362b-f51e-4193-8bed-fe65e4890475",
   "metadata": {},
   "outputs": [
    {
     "name": "stdout",
     "output_type": "stream",
     "text": [
      "Alice is Under the age of 20\n"
     ]
    }
   ],
   "source": [
    "ADULT_AGE = 20 # Adult age\n",
    "\n",
    "def text_adult_age(personal_age, adult_age = 20):\n",
    "  \"\"\"\n",
    "  Returns a string indicating whether or not you are over the adult age.\n",
    "\n",
    "  Parameters:\n",
    "  ------------\n",
    "  personal_age : int\n",
    "    Age of the person you want to judge\n",
    "  adult_age : int (default : 20)\n",
    "    Adult age. 20 years old by default.\n",
    "\n",
    "  Returns:\n",
    "  ------------\n",
    "  str\n",
    "    string greater than or equal to adult_age and less than\n",
    "  \"\"\"\n",
    "  if personal_age > adult_age:\n",
    "    return \"Over the age of {}\".format(adult_age)\n",
    "  else:\n",
    "    return \"Under the age of {}\".format(adult_age)\n",
    "\n",
    "# Student information\n",
    "student_name = \"Alice\"\n",
    "student_age = 19\n",
    "\n",
    "print(\"{} is {}\".format(student_name, text_adult_age(student_age, adult_age = ADULT_AGE)))"
   ]
  },
  {
   "cell_type": "code",
   "execution_count": 74,
   "id": "d79154b5-afd7-44ca-a413-dd90a6daacbc",
   "metadata": {},
   "outputs": [
    {
     "name": "stdout",
     "output_type": "stream",
     "text": [
      "<class 'str'>\n",
      "<class 'float'>\n"
     ]
    }
   ],
   "source": [
    "print(type(\"42\"))\n",
    "print(type(4.2/3)) \n"
   ]
  },
  {
   "cell_type": "code",
   "execution_count": 75,
   "id": "d58c01ba-7db4-400f-bdc1-28811e503656",
   "metadata": {},
   "outputs": [],
   "source": [
    "def all(iterable):\n",
    "    for element in iterable:\n",
    "        if not element:\n",
    "            return False\n",
    "    return True"
   ]
  },
  {
   "cell_type": "code",
   "execution_count": 76,
   "id": "913cc3dc-9ac6-4963-88e2-20be7c9fb91d",
   "metadata": {},
   "outputs": [
    {
     "name": "stdout",
     "output_type": "stream",
     "text": [
      "Requirement already satisfied: numpy in c:\\users\\munkherdene\\appdata\\local\\programs\\python\\python310\\lib\\site-packages (1.26.4)\n",
      "Note: you may need to restart the kernel to use updated packages.\n"
     ]
    }
   ],
   "source": [
    "pip install numpy"
   ]
  },
  {
   "cell_type": "code",
   "execution_count": 77,
   "id": "62dd0c19-431a-4e90-b331-bb33f1b98ae4",
   "metadata": {},
   "outputs": [
    {
     "ename": "SyntaxError",
     "evalue": "invalid syntax (2928272308.py, line 2)",
     "output_type": "error",
     "traceback": [
      "\u001b[1;36m  Cell \u001b[1;32mIn[77], line 2\u001b[1;36m\u001b[0m\n\u001b[1;33m    conda create -n my-env\u001b[0m\n\u001b[1;37m          ^\u001b[0m\n\u001b[1;31mSyntaxError\u001b[0m\u001b[1;31m:\u001b[0m invalid syntax\n"
     ]
    }
   ],
   "source": [
    "# Best practice, use an environment rather than install in the base env\n",
    "conda create -n my-env\n",
    "conda activate my-env\n",
    "# If you want to install from conda-forge\n",
    "conda config --env --add channels conda-forge\n",
    "# The actual install command\n",
    "conda install numpy"
   ]
  },
  {
   "cell_type": "code",
   "execution_count": 78,
   "id": "6edeedea-b5c8-485d-b277-08a388947b18",
   "metadata": {},
   "outputs": [
    {
     "ename": "ValueError",
     "evalue": "The python kernel does not appear to be a conda environment.  Please use ``%pip install`` instead.",
     "output_type": "error",
     "traceback": [
      "\u001b[1;31m---------------------------------------------------------------------------\u001b[0m",
      "\u001b[1;31mValueError\u001b[0m                                Traceback (most recent call last)",
      "Cell \u001b[1;32mIn[78], line 1\u001b[0m\n\u001b[1;32m----> 1\u001b[0m \u001b[43mget_ipython\u001b[49m\u001b[43m(\u001b[49m\u001b[43m)\u001b[49m\u001b[38;5;241;43m.\u001b[39;49m\u001b[43mrun_line_magic\u001b[49m\u001b[43m(\u001b[49m\u001b[38;5;124;43m'\u001b[39;49m\u001b[38;5;124;43mconda\u001b[39;49m\u001b[38;5;124;43m'\u001b[39;49m\u001b[43m,\u001b[49m\u001b[43m \u001b[49m\u001b[38;5;124;43m'\u001b[39;49m\u001b[38;5;124;43mcreate -n my-env\u001b[39;49m\u001b[38;5;124;43m'\u001b[39;49m\u001b[43m)\u001b[49m\n",
      "File \u001b[1;32m~\\AppData\\Local\\Programs\\Python\\Python310\\lib\\site-packages\\IPython\\core\\interactiveshell.py:2480\u001b[0m, in \u001b[0;36mInteractiveShell.run_line_magic\u001b[1;34m(self, magic_name, line, _stack_depth)\u001b[0m\n\u001b[0;32m   2478\u001b[0m     kwargs[\u001b[38;5;124m'\u001b[39m\u001b[38;5;124mlocal_ns\u001b[39m\u001b[38;5;124m'\u001b[39m] \u001b[38;5;241m=\u001b[39m \u001b[38;5;28mself\u001b[39m\u001b[38;5;241m.\u001b[39mget_local_scope(stack_depth)\n\u001b[0;32m   2479\u001b[0m \u001b[38;5;28;01mwith\u001b[39;00m \u001b[38;5;28mself\u001b[39m\u001b[38;5;241m.\u001b[39mbuiltin_trap:\n\u001b[1;32m-> 2480\u001b[0m     result \u001b[38;5;241m=\u001b[39m fn(\u001b[38;5;241m*\u001b[39margs, \u001b[38;5;241m*\u001b[39m\u001b[38;5;241m*\u001b[39mkwargs)\n\u001b[0;32m   2482\u001b[0m \u001b[38;5;66;03m# The code below prevents the output from being displayed\u001b[39;00m\n\u001b[0;32m   2483\u001b[0m \u001b[38;5;66;03m# when using magics with decorator @output_can_be_silenced\u001b[39;00m\n\u001b[0;32m   2484\u001b[0m \u001b[38;5;66;03m# when the last Python token in the expression is a ';'.\u001b[39;00m\n\u001b[0;32m   2485\u001b[0m \u001b[38;5;28;01mif\u001b[39;00m \u001b[38;5;28mgetattr\u001b[39m(fn, magic\u001b[38;5;241m.\u001b[39mMAGIC_OUTPUT_CAN_BE_SILENCED, \u001b[38;5;28;01mFalse\u001b[39;00m):\n",
      "File \u001b[1;32m~\\AppData\\Local\\Programs\\Python\\Python310\\lib\\site-packages\\IPython\\core\\magics\\packaging.py:26\u001b[0m, in \u001b[0;36mis_conda_environment.<locals>.wrapper\u001b[1;34m(*args, **kwargs)\u001b[0m\n\u001b[0;32m     24\u001b[0m \u001b[38;5;66;03m# TODO: does this need to change on windows?\u001b[39;00m\n\u001b[0;32m     25\u001b[0m \u001b[38;5;28;01mif\u001b[39;00m \u001b[38;5;129;01mnot\u001b[39;00m Path(sys\u001b[38;5;241m.\u001b[39mprefix, \u001b[38;5;124m\"\u001b[39m\u001b[38;5;124mconda-meta\u001b[39m\u001b[38;5;124m\"\u001b[39m, \u001b[38;5;124m\"\u001b[39m\u001b[38;5;124mhistory\u001b[39m\u001b[38;5;124m\"\u001b[39m)\u001b[38;5;241m.\u001b[39mexists():\n\u001b[1;32m---> 26\u001b[0m     \u001b[38;5;28;01mraise\u001b[39;00m \u001b[38;5;167;01mValueError\u001b[39;00m(\n\u001b[0;32m     27\u001b[0m         \u001b[38;5;124m\"\u001b[39m\u001b[38;5;124mThe python kernel does not appear to be a conda environment.  \u001b[39m\u001b[38;5;124m\"\u001b[39m\n\u001b[0;32m     28\u001b[0m         \u001b[38;5;124m\"\u001b[39m\u001b[38;5;124mPlease use ``\u001b[39m\u001b[38;5;124m%\u001b[39m\u001b[38;5;124mpip install`` instead.\u001b[39m\u001b[38;5;124m\"\u001b[39m\n\u001b[0;32m     29\u001b[0m     )\n\u001b[0;32m     30\u001b[0m \u001b[38;5;28;01mreturn\u001b[39;00m func(\u001b[38;5;241m*\u001b[39margs, \u001b[38;5;241m*\u001b[39m\u001b[38;5;241m*\u001b[39mkwargs)\n",
      "\u001b[1;31mValueError\u001b[0m: The python kernel does not appear to be a conda environment.  Please use ``%pip install`` instead."
     ]
    }
   ],
   "source": [
    "\n",
    "conda create -n my-env\n"
   ]
  },
  {
   "cell_type": "code",
   "execution_count": null,
   "id": "d8168bde-ea03-4d91-a80f-b9967726b8e7",
   "metadata": {},
   "outputs": [],
   "source": []
  }
 ],
 "metadata": {
  "kernelspec": {
   "display_name": "Python 3 (ipykernel)",
   "language": "python",
   "name": "python3"
  },
  "language_info": {
   "codemirror_mode": {
    "name": "ipython",
    "version": 3
   },
   "file_extension": ".py",
   "mimetype": "text/x-python",
   "name": "python",
   "nbconvert_exporter": "python",
   "pygments_lexer": "ipython3",
   "version": "3.10.11"
  }
 },
 "nbformat": 4,
 "nbformat_minor": 5
}
